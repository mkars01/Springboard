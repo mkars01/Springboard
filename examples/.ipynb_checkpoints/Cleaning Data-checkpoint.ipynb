{
 "cells": [
  {
   "cell_type": "markdown",
   "id": "728677ea",
   "metadata": {},
   "source": [
    "# Chapter 1"
   ]
  },
  {
   "cell_type": "code",
   "execution_count": 23,
   "id": "00c83f2b",
   "metadata": {},
   "outputs": [],
   "source": [
    "import pandas as pd\n",
    "import datetime as dt\n",
    "import numpy as np"
   ]
  },
  {
   "cell_type": "code",
   "execution_count": 2,
   "id": "96435215",
   "metadata": {},
   "outputs": [],
   "source": [
    "ride_sharing = pd.read_csv('ride_sharing_new.csv')\n",
    "# Convert tire_sizes to category\n",
    "ride_sharing['tire_sizes'] = ride_sharing['tire_sizes'].astype('category')\n",
    "# ride_sharing['ride_date'] = ride_sharing['ride_date'].astype('datetime64[ns]')"
   ]
  },
  {
   "cell_type": "code",
   "execution_count": 3,
   "id": "88862e69",
   "metadata": {},
   "outputs": [
    {
     "name": "stdout",
     "output_type": "stream",
     "text": [
      "<class 'pandas.core.frame.DataFrame'>\n",
      "RangeIndex: 25764 entries, 0 to 25763\n",
      "Data columns (total 12 columns):\n",
      " #   Column           Non-Null Count  Dtype   \n",
      "---  ------           --------------  -----   \n",
      " 0   ride_id          25764 non-null  int64   \n",
      " 1   duration         25764 non-null  object  \n",
      " 2   station_A_id     25764 non-null  int64   \n",
      " 3   station_A_name   25764 non-null  object  \n",
      " 4   station_B_id     25764 non-null  int64   \n",
      " 5   station_B_name   25764 non-null  object  \n",
      " 6   bike_id          25764 non-null  int64   \n",
      " 7   user_type        25764 non-null  int64   \n",
      " 8   user_birth_year  25764 non-null  int64   \n",
      " 9   user_gender      25764 non-null  object  \n",
      " 10  tire_sizes       25764 non-null  category\n",
      " 11  ride_date        25764 non-null  object  \n",
      "dtypes: category(1), int64(6), object(5)\n",
      "memory usage: 2.2+ MB\n",
      "None\n",
      "count    25764.000000\n",
      "mean         2.008384\n",
      "std          0.704541\n",
      "min          1.000000\n",
      "25%          2.000000\n",
      "50%          2.000000\n",
      "75%          3.000000\n",
      "max          3.000000\n",
      "Name: user_type, dtype: float64\n",
      "count     25764\n",
      "unique        3\n",
      "top           2\n",
      "freq      12974\n",
      "Name: user_type_cat, dtype: int64\n"
     ]
    }
   ],
   "source": [
    "# Print the information of ride_sharing\n",
    "print(ride_sharing.info())\n",
    "\n",
    "# Print summary statistics of user_type column\n",
    "print(ride_sharing['user_type'].describe())\n",
    "\n",
    "# Convert user_type from integer to category\n",
    "ride_sharing['user_type_cat'] = ride_sharing['user_type'].astype('category')\n",
    "\n",
    "# Write an assert statement confirming the change\n",
    "assert ride_sharing['user_type_cat'].dtype == 'category'\n",
    "\n",
    "# Print new summary statistics \n",
    "print(ride_sharing['user_type_cat'].describe())"
   ]
  },
  {
   "cell_type": "code",
   "execution_count": 4,
   "id": "5b44f816",
   "metadata": {},
   "outputs": [
    {
     "name": "stdout",
     "output_type": "stream",
     "text": [
      "         duration duration_trim  duration_time\n",
      "0      12 minutes           12              12\n",
      "1      24 minutes           24              24\n",
      "2       8 minutes            8               8\n",
      "3       4 minutes            4               4\n",
      "4      11 minutes           11              11\n",
      "...           ...           ...            ...\n",
      "25759  11 minutes           11              11\n",
      "25760  10 minutes           10              10\n",
      "25761  14 minutes           14              14\n",
      "25762  14 minutes           14              14\n",
      "25763  29 minutes           29              29\n",
      "\n",
      "[25764 rows x 3 columns]\n",
      "11.388487812451483\n"
     ]
    }
   ],
   "source": [
    "# Strip duration of minutes\n",
    "ride_sharing['duration_trim'] = ride_sharing['duration'].str.strip('minutes')\n",
    "\n",
    "# Convert duration to integer\n",
    "ride_sharing['duration_time'] = ride_sharing['duration_trim'].astype('int')\n",
    "\n",
    "# Write an assert statement making sure of conversion\n",
    "assert ride_sharing['duration_time'].dtype == 'int'\n",
    "\n",
    "# Print formed columns and calculate average ride duration \n",
    "print(ride_sharing[['duration','duration_trim','duration_time']])\n",
    "print(ride_sharing['duration_time'].mean())"
   ]
  },
  {
   "cell_type": "code",
   "execution_count": 5,
   "id": "f0df71c1",
   "metadata": {},
   "outputs": [
    {
     "name": "stdout",
     "output_type": "stream",
     "text": [
      "count     25764\n",
      "unique        2\n",
      "top          27\n",
      "freq      19477\n",
      "Name: tire_sizes, dtype: int64\n"
     ]
    }
   ],
   "source": [
    "# Convert tire_sizes to integer\n",
    "ride_sharing['tire_sizes'] = ride_sharing['tire_sizes'].astype('int')\n",
    "\n",
    "# Set all values above 27 to 27\n",
    "ride_sharing.loc[ride_sharing['tire_sizes'] > 27, 'tire_sizes'] = 27\n",
    "\n",
    "# Reconvert tire_sizes back to categorical\n",
    "ride_sharing['tire_sizes'] = ride_sharing['tire_sizes'].astype('category')\n",
    "\n",
    "# Print tire size description\n",
    "print(ride_sharing['tire_sizes'].describe())"
   ]
  },
  {
   "cell_type": "code",
   "execution_count": 6,
   "id": "d4f683c3",
   "metadata": {},
   "outputs": [
    {
     "name": "stdout",
     "output_type": "stream",
     "text": [
      "2022-02-17 00:00:00\n"
     ]
    }
   ],
   "source": [
    "# Convert ride_date to datetime\n",
    "ride_sharing['ride_dt'] = pd.to_datetime(ride_sharing['ride_date'])\n",
    "\n",
    "# Save today's date\n",
    "today = pd.to_datetime(dt.date.today())\n",
    "\n",
    "# Set all in the future to today's date\n",
    "ride_sharing.loc[ride_sharing['ride_dt'] > today, 'ride_dt'] = today\n",
    "\n",
    "# Print maximum of ride_dt column\n",
    "print(ride_sharing['ride_dt'].max())"
   ]
  },
  {
   "cell_type": "code",
   "execution_count": 7,
   "id": "a57b2ccd",
   "metadata": {},
   "outputs": [
    {
     "name": "stdout",
     "output_type": "stream",
     "text": [
      "    ride_id    duration  user_birth_year\n",
      "33       33   2 minutes             1979\n",
      "34       33  16 minutes             1979\n",
      "56       55  11 minutes             1985\n",
      "57       55  11 minutes             1985\n",
      "73       71  11 minutes             1997\n",
      "74       71  11 minutes             1997\n",
      "92       89   9 minutes             1986\n",
      "93       89   9 minutes             2060\n"
     ]
    }
   ],
   "source": [
    "# Find duplicates\n",
    "duplicates = ride_sharing.duplicated('ride_id', keep=False)\n",
    "\n",
    "# Sort your duplicated rides\n",
    "duplicated_rides = ride_sharing[duplicates].sort_values('ride_id')\n",
    "\n",
    "# Print relevant columns of duplicated_rides\n",
    "print(duplicated_rides[['ride_id','duration','user_birth_year']])"
   ]
  },
  {
   "cell_type": "code",
   "execution_count": 9,
   "id": "ef701d52",
   "metadata": {},
   "outputs": [],
   "source": [
    "# Drop complete duplicates from ride_sharing\n",
    "ride_dup = ride_sharing.drop_duplicates()\n",
    "\n",
    "# Create statistics dictionary for aggregation function\n",
    "statistics = {'user_birth_year': 'min', 'duration_time': 'mean'}\n",
    "\n",
    "# Group by ride_id and compute new statistics\n",
    "ride_unique = ride_dup.groupby('ride_id').agg(statistics).reset_index()\n",
    "\n",
    "# Find duplicated values again\n",
    "duplicates = ride_unique.duplicated(subset = 'ride_id', keep = False)\n",
    "duplicated_rides = ride_unique[duplicates == True]\n",
    "\n",
    "# Assert duplicates are processed\n",
    "assert duplicated_rides.shape[0] == 0"
   ]
  },
  {
   "cell_type": "code",
   "execution_count": 10,
   "id": "c2735080",
   "metadata": {
    "scrolled": true
   },
   "outputs": [
    {
     "name": "stdout",
     "output_type": "stream",
     "text": [
      "    ride_id  user_birth_year  duration_time\n",
      "0         0             1959           12.0\n",
      "1         1             1965           24.0\n",
      "2         2             1993            8.0\n",
      "3         3             1979            4.0\n",
      "4         4             1994           11.0\n",
      "5         5             1979           10.0\n",
      "6         6             1981           16.0\n",
      "7         7             1991            9.0\n",
      "8         8             1982           21.0\n",
      "9         9             1994            5.0\n",
      "10       10             1983           19.0\n",
      "11       11             1990            6.0\n",
      "12       12             1998            7.0\n",
      "13       13             1987          187.0\n",
      "14       14             1997           13.0\n",
      "15       15             1995            4.0\n",
      "16       16             1990           32.0\n",
      "17       17             1964            5.0\n",
      "18       18             2000           16.0\n",
      "19       19             2000           17.0\n",
      "20       20             1998           16.0\n",
      "21       21             1986           11.0\n",
      "22       22             1982           10.0\n",
      "23       23             1992            3.0\n",
      "24       24             1980           11.0\n",
      "25       25             1990            3.0\n",
      "26       26             1994           12.0\n",
      "27       27             1977            7.0\n",
      "28       28             1990            5.0\n",
      "29       29             1990            6.0\n",
      "30       30             1988            6.0\n",
      "31       31             1990            9.0\n",
      "32       32             1980           10.0\n",
      "33       33             1979            9.0\n",
      "34       34             1994           11.0\n",
      "35       35             1988           11.0\n",
      "36       36             1990            4.0\n",
      "37       37             1989            5.0\n",
      "38       38             1966            6.0\n",
      "39       39             1986            7.0\n",
      "40       40             1988            4.0\n",
      "41       41             1967           12.0\n",
      "42       42             1977            3.0\n",
      "43       43             1977            3.0\n",
      "44       44             1996            2.0\n",
      "45       45             1990            1.0\n",
      "46       46             1989            7.0\n",
      "47       47             1994            8.0\n",
      "48       48             1973           15.0\n",
      "49       49             1991            9.0\n"
     ]
    }
   ],
   "source": [
    "print(ride_unique.head(50))"
   ]
  },
  {
   "cell_type": "markdown",
   "id": "d28dfded",
   "metadata": {},
   "source": [
    "# Chapter 2"
   ]
  },
  {
   "cell_type": "code",
   "execution_count": 35,
   "id": "d02dbf03",
   "metadata": {},
   "outputs": [],
   "source": [
    "airlines = pd.read_csv('airlines_final.csv')\n",
    "categories = pd.read_csv('airline_categories.csv')"
   ]
  },
  {
   "cell_type": "code",
   "execution_count": 36,
   "id": "9694298e",
   "metadata": {},
   "outputs": [
    {
     "name": "stdout",
     "output_type": "stream",
     "text": [
      "      cleanliness           safety          satisfaction\n",
      "0           Clean          Neutral        Very satisfied\n",
      "1         Average        Very safe               Neutral\n",
      "2  Somewhat clean    Somewhat safe    Somewhat satisfied\n",
      "3  Somewhat dirty      Very unsafe  Somewhat unsatisfied\n",
      "4           Dirty  Somewhat unsafe      Very unsatisfied\n",
      "Cleanliness:  ['Clean' 'Average' 'Unacceptable' 'Somewhat clean' 'Somewhat dirty'\n",
      " 'Dirty'] \n",
      "\n",
      "Safety:  ['Neutral' 'Very safe' 'Somewhat safe' 'Very unsafe' 'Somewhat unsafe'] \n",
      "\n",
      "Satisfaction:  ['Very satisfied' 'Neutral' 'Somewhat satsified' 'Somewhat unsatisfied'\n",
      " 'Very unsatisfied'] \n",
      "\n"
     ]
    }
   ],
   "source": [
    "# Print categories DataFrame\n",
    "print(categories)\n",
    "\n",
    "# Print unique values of survey columns in airlines\n",
    "print('Cleanliness: ', airlines['cleanliness'].unique(), \"\\n\")\n",
    "print('Safety: ', airlines['safety'].unique(), \"\\n\")\n",
    "print('Satisfaction: ', airlines['satisfaction'].unique(), \"\\n\")"
   ]
  },
  {
   "cell_type": "code",
   "execution_count": 37,
   "id": "54d5cfbd",
   "metadata": {},
   "outputs": [
    {
     "name": "stdout",
     "output_type": "stream",
     "text": [
      "    Unnamed: 0    id        day           airline  destination  dest_region  \\\n",
      "4            4  2992  Wednesday          AMERICAN        MIAMI      East US   \n",
      "17          18  2913     Friday  TURKISH AIRLINES     ISTANBUL  Middle East   \n",
      "89         100  2321  Wednesday         SOUTHWEST  LOS ANGELES      West US   \n",
      "\n",
      "   dest_size boarding_area   dept_time  wait_min   cleanliness         safety  \\\n",
      "4        Hub   Gates 50-59  12/31/2018       559  Unacceptable      Very safe   \n",
      "17       Hub  Gates 91-102  12/31/2018       225  Unacceptable      Very safe   \n",
      "89       Hub   Gates 20-39  12/31/2018       130  Unacceptable  Somewhat safe   \n",
      "\n",
      "          satisfaction     full_name  \\\n",
      "4   Somewhat satsified  Michael Ward   \n",
      "17  Somewhat satsified  Michael Ward   \n",
      "89  Somewhat satsified  Michael Ward   \n",
      "\n",
      "                                      survey_response  \n",
      "4                                     It was terrible  \n",
      "17                                          Not a fan  \n",
      "89  The food in the airport was really really expe...  \n"
     ]
    }
   ],
   "source": [
    "# Find the cleanliness category in airlines not in categories\n",
    "cat_clean = set(airlines['cleanliness']).difference(categories['cleanliness'])\n",
    "\n",
    "# Find rows with that category\n",
    "cat_clean_rows = airlines['cleanliness'].isin(cat_clean)\n",
    "\n",
    "# Print rows with inconsistent category\n",
    "print(airlines[cat_clean_rows])"
   ]
  },
  {
   "cell_type": "code",
   "execution_count": 38,
   "id": "a8ad51d2",
   "metadata": {},
   "outputs": [
    {
     "name": "stdout",
     "output_type": "stream",
     "text": [
      "      Unnamed: 0    id       day        airline        destination  \\\n",
      "0              0  1351   Tuesday    UNITED INTL             KANSAI   \n",
      "1              1   373    Friday         ALASKA  SAN JOSE DEL CABO   \n",
      "2              2  2820  Thursday          DELTA        LOS ANGELES   \n",
      "3              3  1157   Tuesday      SOUTHWEST        LOS ANGELES   \n",
      "5              5   634  Thursday         ALASKA             NEWARK   \n",
      "...          ...   ...       ...            ...                ...   \n",
      "2472        2804  1475   Tuesday         ALASKA       NEW YORK-JFK   \n",
      "2473        2805  2222  Thursday      SOUTHWEST            PHOENIX   \n",
      "2474        2806  2684    Friday         UNITED            ORLANDO   \n",
      "2475        2807  2549   Tuesday        JETBLUE         LONG BEACH   \n",
      "2476        2808  2162  Saturday  CHINA EASTERN            QINGDAO   \n",
      "\n",
      "        dest_region dest_size boarding_area   dept_time  wait_min  \\\n",
      "0              Asia       Hub  Gates 91-102  12/31/2018       115   \n",
      "1     Canada/Mexico     Small   Gates 50-59  12/31/2018       135   \n",
      "2           West US       Hub   Gates 40-48  12/31/2018        70   \n",
      "3           West US       Hub   Gates 20-39  12/31/2018       190   \n",
      "5           East US       Hub   Gates 50-59  12/31/2018       140   \n",
      "...             ...       ...           ...         ...       ...   \n",
      "2472        East US       Hub   Gates 50-59  12/31/2018       280   \n",
      "2473        West US       Hub   Gates 20-39  12/31/2018       165   \n",
      "2474        East US       Hub   Gates 70-90  12/31/2018        92   \n",
      "2475        West US     Small    Gates 1-12  12/31/2018        95   \n",
      "2476           Asia     Large    Gates 1-12  12/31/2018       220   \n",
      "\n",
      "         cleanliness         safety        satisfaction         full_name  \\\n",
      "0              Clean        Neutral      Very satisfied      Michael Ward   \n",
      "1              Clean      Very safe      Very satisfied  Dr. Michael Ward   \n",
      "2            Average  Somewhat safe             Neutral      Michael Ward   \n",
      "3              Clean      Very safe  Somewhat satsified      Michael Ward   \n",
      "5     Somewhat clean      Very safe      Very satisfied      Michael Ward   \n",
      "...              ...            ...                 ...               ...   \n",
      "2472  Somewhat clean        Neutral  Somewhat satsified      Michael Ward   \n",
      "2473           Clean      Very safe      Very satisfied      Michael Ward   \n",
      "2474           Clean      Very safe      Very satisfied      Michael Ward   \n",
      "2475           Clean  Somewhat safe      Very satisfied      Michael Ward   \n",
      "2476           Clean      Very safe  Somewhat satsified      Michael Ward   \n",
      "\n",
      "                                        survey_response  \n",
      "0                                       It was terrible  \n",
      "1                                       It was terrible  \n",
      "2                                       It was terrible  \n",
      "3                                       It was terrible  \n",
      "5                              I didn't like the flight  \n",
      "...                                                 ...  \n",
      "2472  One of the other travelers was really loud and...  \n",
      "2473  One of the other travelers was really loud and...  \n",
      "2474  One of the other travelers was really loud and...  \n",
      "2475  One of the other travelers was really loud and...  \n",
      "2476  One of the other travelers was really loud and...  \n",
      "\n",
      "[2474 rows x 15 columns]\n"
     ]
    }
   ],
   "source": [
    "print(airlines[~cat_clean_rows])"
   ]
  },
  {
   "cell_type": "code",
   "execution_count": 39,
   "id": "a8fffd1a",
   "metadata": {},
   "outputs": [
    {
     "name": "stdout",
     "output_type": "stream",
     "text": [
      "['Asia' 'Canada/Mexico' 'West US' 'East US' 'Midwest US' 'EAST US'\n",
      " 'Middle East' 'Europe' 'eur' 'Central/South America'\n",
      " 'Australia/New Zealand' 'middle east']\n",
      "['Hub' 'Small' '    Hub' 'Medium' 'Large' 'Hub     ' '    Small'\n",
      " 'Medium     ' '    Medium' 'Small     ' '    Large' 'Large     ']\n"
     ]
    }
   ],
   "source": [
    "# Print unique values of both columns\n",
    "print(airlines['dest_region'].unique())\n",
    "print(airlines['dest_size'].unique())"
   ]
  },
  {
   "cell_type": "code",
   "execution_count": 40,
   "id": "aea6810a",
   "metadata": {},
   "outputs": [
    {
     "name": "stdout",
     "output_type": "stream",
     "text": [
      "['asia' 'canada/mexico' 'west us' 'east us' 'midwest us' 'middle east'\n",
      " 'europe' 'central/south america' 'australia/new zealand']\n",
      "['Hub' 'Small' 'Medium' 'Large']\n"
     ]
    }
   ],
   "source": [
    "# Lower dest_region column and then replace \"eur\" with \"europe\"\n",
    "airlines['dest_region'] = airlines['dest_region'].str.lower() \n",
    "airlines['dest_region'] = airlines['dest_region'].replace({'eur':'europe'})\n",
    "\n",
    "# Remove white spaces from `dest_size`\n",
    "airlines['dest_size'] = airlines['dest_size'].str.strip()\n",
    "\n",
    "# Verify changes have been effected\n",
    "print(airlines['dest_region'].unique())\n",
    "print(airlines['dest_size'].unique())"
   ]
  },
  {
   "cell_type": "code",
   "execution_count": 41,
   "id": "0f86860a",
   "metadata": {},
   "outputs": [
    {
     "name": "stdout",
     "output_type": "stream",
     "text": [
      "   Unnamed: 0    id        day      airline        destination    dest_region  \\\n",
      "0           0  1351    Tuesday  UNITED INTL             KANSAI           asia   \n",
      "1           1   373     Friday       ALASKA  SAN JOSE DEL CABO  canada/mexico   \n",
      "2           2  2820   Thursday        DELTA        LOS ANGELES        west us   \n",
      "3           3  1157    Tuesday    SOUTHWEST        LOS ANGELES        west us   \n",
      "4           4  2992  Wednesday     AMERICAN              MIAMI        east us   \n",
      "\n",
      "  dest_size boarding_area   dept_time  wait_min   cleanliness         safety  \\\n",
      "0       Hub  Gates 91-102  12/31/2018       115         Clean        Neutral   \n",
      "1     Small   Gates 50-59  12/31/2018       135         Clean      Very safe   \n",
      "2       Hub   Gates 40-48  12/31/2018        70       Average  Somewhat safe   \n",
      "3       Hub   Gates 20-39  12/31/2018       190         Clean      Very safe   \n",
      "4       Hub   Gates 50-59  12/31/2018       559  Unacceptable      Very safe   \n",
      "\n",
      "         satisfaction         full_name  survey_response wait_type day_week  \n",
      "0      Very satisfied      Michael Ward  It was terrible    medium  weekday  \n",
      "1      Very satisfied  Dr. Michael Ward  It was terrible    medium  weekday  \n",
      "2             Neutral      Michael Ward  It was terrible    medium  weekday  \n",
      "3  Somewhat satsified      Michael Ward  It was terrible      long  weekday  \n",
      "4  Somewhat satsified      Michael Ward  It was terrible      long  weekday  \n"
     ]
    }
   ],
   "source": [
    "# Create ranges for categories\n",
    "label_ranges = [0, 60, 180, np.inf]\n",
    "label_names = ['short', 'medium', 'long']\n",
    "\n",
    "# Create wait_type column\n",
    "airlines['wait_type'] = pd.cut(airlines['wait_min'], bins = label_ranges, \n",
    "                                labels = label_names)\n",
    "\n",
    "# Create mappings and replace\n",
    "mappings = {'Monday':'weekday', 'Tuesday':'weekday', 'Wednesday': 'weekday', \n",
    "            'Thursday': 'weekday', 'Friday': 'weekday', \n",
    "            'Saturday': 'weekend', 'Sunday': 'weekend'}\n",
    "\n",
    "airlines['day_week'] = airlines['day'].replace(mappings)\n",
    "print(airlines.head())"
   ]
  },
  {
   "cell_type": "code",
   "execution_count": 42,
   "id": "b218be97",
   "metadata": {},
   "outputs": [
    {
     "name": "stderr",
     "output_type": "stream",
     "text": [
      "C:\\Users\\mkars\\AppData\\Local\\Temp/ipykernel_23428/3304348909.py:2: FutureWarning: The default value of regex will change from True to False in a future version.\n",
      "  airlines['full_name'] = airlines['full_name'].str.replace(\"Dr.\",\"\")\n",
      "C:\\Users\\mkars\\AppData\\Local\\Temp/ipykernel_23428/3304348909.py:5: FutureWarning: The default value of regex will change from True to False in a future version.\n",
      "  airlines['full_name'] = airlines['full_name'].str.replace(\"Mr.\",\"\")\n",
      "C:\\Users\\mkars\\AppData\\Local\\Temp/ipykernel_23428/3304348909.py:11: FutureWarning: The default value of regex will change from True to False in a future version.\n",
      "  airlines['full_name'] = airlines['full_name'].str.replace(\"Ms.\",\"\")\n"
     ]
    }
   ],
   "source": [
    "# Replace \"Dr.\" with empty string \"\"\n",
    "airlines['full_name'] = airlines['full_name'].str.replace(\"Dr.\",\"\")\n",
    "\n",
    "# Replace \"Mr.\" with empty string \"\"\n",
    "airlines['full_name'] = airlines['full_name'].str.replace(\"Mr.\",\"\")\n",
    "\n",
    "# Replace \"Miss\" with empty string \"\"\n",
    "airlines['full_name'] = airlines['full_name'].str.replace(\"Miss\",\"\")\n",
    "\n",
    "# Replace \"Ms.\" with empty string \"\"\n",
    "airlines['full_name'] = airlines['full_name'].str.replace(\"Ms.\",\"\")\n",
    "\n",
    "# Assert that full_name has no honorifics\n",
    "assert airlines['full_name'].str.contains('Ms.|Mr.|Miss|Dr.').any() == False"
   ]
  },
  {
   "cell_type": "code",
   "execution_count": 45,
   "id": "d44d1c56",
   "metadata": {},
   "outputs": [
    {
     "name": "stdout",
     "output_type": "stream",
     "text": [
      "43      The airport personnell forgot to alert us of d...\n",
      "44      The airport personnell forgot to alert us of d...\n",
      "45      The airport personnell forgot to alert us of d...\n",
      "46      The airport personnell forgot to alert us of d...\n",
      "47      The airport personnell forgot to alert us of d...\n",
      "                              ...                        \n",
      "2472    One of the other travelers was really loud and...\n",
      "2473    One of the other travelers was really loud and...\n",
      "2474    One of the other travelers was really loud and...\n",
      "2475    One of the other travelers was really loud and...\n",
      "2476    One of the other travelers was really loud and...\n",
      "Name: survey_response, Length: 2434, dtype: object\n"
     ]
    }
   ],
   "source": [
    "# Store length of each row in survey_response column\n",
    "resp_length = airlines['survey_response'].str.len()\n",
    "\n",
    "# Find rows in airlines where resp_length > 40\n",
    "airlines_survey = airlines[resp_length > 40]\n",
    "\n",
    "# Assert minimum survey_response length is > 40\n",
    "assert airlines_survey['survey_response'].str.len().min() > 40\n",
    "\n",
    "# Print new survey_response column\n",
    "print(airlines_survey['survey_response'])"
   ]
  }
 ],
 "metadata": {
  "kernelspec": {
   "display_name": "Python 3 (ipykernel)",
   "language": "python",
   "name": "python3"
  },
  "language_info": {
   "codemirror_mode": {
    "name": "ipython",
    "version": 3
   },
   "file_extension": ".py",
   "mimetype": "text/x-python",
   "name": "python",
   "nbconvert_exporter": "python",
   "pygments_lexer": "ipython3",
   "version": "3.9.7"
  }
 },
 "nbformat": 4,
 "nbformat_minor": 5
}
