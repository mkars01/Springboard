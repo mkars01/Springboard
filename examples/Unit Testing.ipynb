{
 "cells": [
  {
   "cell_type": "markdown",
   "id": "46c53fea",
   "metadata": {},
   "source": [
    "https://www.youtube.com/watch?v=FxSsnHeWQBY"
   ]
  },
  {
   "cell_type": "code",
   "execution_count": 36,
   "id": "38e47bb1",
   "metadata": {},
   "outputs": [],
   "source": [
    "import unittest\n",
    "from mock import Mock"
   ]
  },
  {
   "cell_type": "code",
   "execution_count": 7,
   "id": "35109e48",
   "metadata": {},
   "outputs": [],
   "source": [
    "class Portfolio(object):\n",
    "    \"\"\"A simple stock portfolio\"\"\"\n",
    "    def __init__(self):\n",
    "        # stocks is a list of lists\n",
    "        #   [[name, shares, price], ...]\n",
    "        self.stocks = []\n",
    "        \n",
    "    def buy(self, name, shares, price):\n",
    "        \"\"\" Buy `name`: `shares` shares at `price`.\"\"\"\n",
    "        self.stocks.append([name, shares, price])\n",
    "        \n",
    "    def cost(self):\n",
    "        \"\"\"What was the total cost of this portfolio?\"\"\"\n",
    "        amt = 0.0\n",
    "        for name, shares, price in self.stocks:\n",
    "            amt += shares * price\n",
    "        return amt"
   ]
  },
  {
   "cell_type": "code",
   "execution_count": 8,
   "id": "95e1af37",
   "metadata": {},
   "outputs": [
    {
     "name": "stdout",
     "output_type": "stream",
     "text": [
      "0.0\n"
     ]
    }
   ],
   "source": [
    "p = Portfolio()\n",
    "print(p.cost())"
   ]
  },
  {
   "cell_type": "code",
   "execution_count": 9,
   "id": "4f8423fa",
   "metadata": {},
   "outputs": [
    {
     "name": "stdout",
     "output_type": "stream",
     "text": [
      "17648.0\n"
     ]
    }
   ],
   "source": [
    "p.buy(\"IBM\", 100, 176.48)\n",
    "print(p.cost())"
   ]
  },
  {
   "cell_type": "code",
   "execution_count": 10,
   "id": "da6777ba",
   "metadata": {},
   "outputs": [
    {
     "name": "stdout",
     "output_type": "stream",
     "text": [
      "21263.0\n"
     ]
    }
   ],
   "source": [
    "p.buy(\"HPQ\", 100, 36.15)\n",
    "print(p.cost())"
   ]
  },
  {
   "cell_type": "code",
   "execution_count": 14,
   "id": "ef92bdeb",
   "metadata": {},
   "outputs": [
    {
     "name": "stdout",
     "output_type": "stream",
     "text": [
      "Empty portfolio cost: 0.0, should be 0.0\n",
      "With 100 IBM @ 176.48: 17648.0, should be 17648.0\n",
      "With 100 HPQ @ 36.15: 21263.0, should be 21263.0\n"
     ]
    }
   ],
   "source": [
    "p = Portfolio()\n",
    "print(\"Empty portfolio cost: %s, should be 0.0\" % p.cost())\n",
    "assert p.cost() == 0.0\n",
    "p.buy(\"IBM\", 100, 176.48)\n",
    "print(\"With 100 IBM @ 176.48: %s, should be 17648.0\" % p.cost())\n",
    "assert p.cost() == 17648.0\n",
    "p.buy(\"HPQ\", 100, 36.15)\n",
    "print(\"With 100 HPQ @ 36.15: %s, should be 21263.0\" % p.cost())\n",
    "assert p.cost() == 21263.0"
   ]
  },
  {
   "cell_type": "code",
   "execution_count": 31,
   "id": "5247e380",
   "metadata": {},
   "outputs": [],
   "source": [
    "class PortfolioTest(unittest.TestCase):\n",
    "    def test_empty(self):\n",
    "        p = Portfolio()\n",
    "        self.assertEqual(p.cost(), 0.0)\n",
    "        \n",
    "    def test_buy_one_stock(self):\n",
    "        p = Portfolio()\n",
    "        p.buy(\"IBM\", 100, 176.48)\n",
    "        self.assertEqual(p.cost(), 17648.0)\n",
    "        \n",
    "    def test_buy_two_stocks(self):\n",
    "        p = Portfolio()\n",
    "        p.buy(\"IBM\", 100, 176.48)\n",
    "        p.buy(\"HPQ\", 100, 36.15)\n",
    "        self.assertEqual(p.cost(), 21263.0)"
   ]
  },
  {
   "cell_type": "code",
   "execution_count": 32,
   "id": "b2f13637",
   "metadata": {},
   "outputs": [],
   "source": [
    "testcase = PortfolioTest()"
   ]
  },
  {
   "cell_type": "code",
   "execution_count": 33,
   "id": "055b2882",
   "metadata": {},
   "outputs": [
    {
     "name": "stdout",
     "output_type": "stream",
     "text": [
      "test_empty() passed\n"
     ]
    }
   ],
   "source": [
    "try: \n",
    "    testcase.test_empty()\n",
    "except AssertionError:\n",
    "    print(\"test_empty() failed\")\n",
    "else:\n",
    "    print(\"test_empty() passed\")"
   ]
  },
  {
   "cell_type": "code",
   "execution_count": 34,
   "id": "00fa3c38",
   "metadata": {},
   "outputs": [
    {
     "name": "stdout",
     "output_type": "stream",
     "text": [
      "test_buy_one_stock() passed\n"
     ]
    }
   ],
   "source": [
    "try: \n",
    "    testcase.test_buy_one_stock()\n",
    "except AssertionError:\n",
    "    print(\"test_buy_one_stock() failed\")\n",
    "else:\n",
    "    print(\"test_buy_one_stock() passed\")"
   ]
  },
  {
   "cell_type": "code",
   "execution_count": 35,
   "id": "02dafdeb",
   "metadata": {},
   "outputs": [
    {
     "name": "stdout",
     "output_type": "stream",
     "text": [
      "test_buy_two_stocks() passed\n"
     ]
    }
   ],
   "source": [
    "try: \n",
    "    testcase.test_buy_two_stocks()\n",
    "except AssertionError:\n",
    "    print(\"test_buy_two_stocks() failed\")\n",
    "else:\n",
    "    print(\"test_buy_two_stocks() passed\")"
   ]
  },
  {
   "cell_type": "code",
   "execution_count": 37,
   "id": "1c69ab82",
   "metadata": {},
   "outputs": [],
   "source": [
    "func = Mock()\n",
    "func.return_value = \"Hello!\""
   ]
  },
  {
   "cell_type": "code",
   "execution_count": 38,
   "id": "dc059752",
   "metadata": {},
   "outputs": [
    {
     "name": "stdout",
     "output_type": "stream",
     "text": [
      "Hello!\n"
     ]
    }
   ],
   "source": [
    "print(func(17, \"something\"))"
   ]
  },
  {
   "cell_type": "code",
   "execution_count": 39,
   "id": "4d1d4d8b",
   "metadata": {},
   "outputs": [
    {
     "name": "stdout",
     "output_type": "stream",
     "text": [
      "call(17, 'something')\n"
     ]
    }
   ],
   "source": [
    "print(func.call_args)"
   ]
  }
 ],
 "metadata": {
  "kernelspec": {
   "display_name": "Python 3 (ipykernel)",
   "language": "python",
   "name": "python3"
  },
  "language_info": {
   "codemirror_mode": {
    "name": "ipython",
    "version": 3
   },
   "file_extension": ".py",
   "mimetype": "text/x-python",
   "name": "python",
   "nbconvert_exporter": "python",
   "pygments_lexer": "ipython3",
   "version": "3.9.7"
  }
 },
 "nbformat": 4,
 "nbformat_minor": 5
}
