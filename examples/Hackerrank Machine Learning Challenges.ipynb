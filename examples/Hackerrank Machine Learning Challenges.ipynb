{
 "cells": [
  {
   "cell_type": "markdown",
   "id": "213802e3",
   "metadata": {},
   "source": [
    "https://www.hackerrank.com/domains/ai?filters%5Bsubdomains%5D%5B%5D=machine-learning"
   ]
  },
  {
   "cell_type": "code",
   "execution_count": 1,
   "id": "28dc6c90",
   "metadata": {},
   "outputs": [],
   "source": [
    "import numpy as np"
   ]
  },
  {
   "cell_type": "markdown",
   "id": "8e527690",
   "metadata": {},
   "source": [
    "# Correlation and Regression Lines - A Quick Recap #1\n",
    "Compute Karl Pearson’s coefficient of correlation between these scores.\n",
    "Compute the answer correct to three decimal places."
   ]
  },
  {
   "cell_type": "markdown",
   "id": "3a3ce995",
   "metadata": {},
   "source": [
    "Physics Scores  15  12  8   8   7   7   7   6   5   3<br>\n",
    "History Scores  10  25  17  11  13  17  20  13  9   15"
   ]
  },
  {
   "cell_type": "code",
   "execution_count": 2,
   "id": "55be0716",
   "metadata": {},
   "outputs": [
    {
     "name": "stdout",
     "output_type": "stream",
     "text": [
      "Physics Scores 15 12 8 8 7 7 7 6 5 3\n",
      "History Scores 10 25 17 11 13 17 20 13 9 15\n"
     ]
    }
   ],
   "source": [
    "line1 = input()\n",
    "line2 = input()"
   ]
  },
  {
   "cell_type": "code",
   "execution_count": 3,
   "id": "687dff7a",
   "metadata": {},
   "outputs": [],
   "source": [
    "physics = line1.split()\n",
    "physics = np.array(physics[2:]).astype(int)"
   ]
  },
  {
   "cell_type": "code",
   "execution_count": 4,
   "id": "716d4d2e",
   "metadata": {},
   "outputs": [],
   "source": [
    "history = line2.split()\n",
    "history = np.array(history[2:]).astype(int)"
   ]
  },
  {
   "cell_type": "code",
   "execution_count": 5,
   "id": "babc58e9",
   "metadata": {},
   "outputs": [
    {
     "name": "stdout",
     "output_type": "stream",
     "text": [
      "0.145\n"
     ]
    }
   ],
   "source": [
    "R2 = np.corrcoef(physics, history)[0,1]\n",
    "print(round(R2,3))"
   ]
  },
  {
   "cell_type": "code",
   "execution_count": 7,
   "id": "44be2432",
   "metadata": {},
   "outputs": [],
   "source": [
    "physics = line1.split()\n",
    "physics = list(map(int, physics[2:]))\n",
    "history = line2.split()\n",
    "history = list(map(int, history[2:]))"
   ]
  },
  {
   "cell_type": "code",
   "execution_count": 8,
   "id": "56ffb751",
   "metadata": {},
   "outputs": [],
   "source": [
    "def pearsonr(x, y):\n",
    "  # Assume len(x) == len(y)\n",
    "  n = len(x)\n",
    "  sum_x = float(sum(x))\n",
    "  sum_y = float(sum(y))\n",
    "  sum_x_sq = sum(xi*xi for xi in x)\n",
    "  sum_y_sq = sum(yi*yi for yi in y)\n",
    "  psum = sum(xi*yi for xi, yi in zip(x, y))\n",
    "  num = psum - (sum_x * sum_y/n)\n",
    "  den = pow((sum_x_sq - pow(sum_x, 2) / n) * (sum_y_sq - pow(sum_y, 2) / n), 0.5)\n",
    "  if den == 0: return 0\n",
    "  return num / den"
   ]
  },
  {
   "cell_type": "code",
   "execution_count": 9,
   "id": "26b905d9",
   "metadata": {},
   "outputs": [
    {
     "name": "stdout",
     "output_type": "stream",
     "text": [
      "0.145\n"
     ]
    }
   ],
   "source": [
    "print(round(pearsonr(physics, history),3))"
   ]
  }
 ],
 "metadata": {
  "kernelspec": {
   "display_name": "Python 3 (ipykernel)",
   "language": "python",
   "name": "python3"
  },
  "language_info": {
   "codemirror_mode": {
    "name": "ipython",
    "version": 3
   },
   "file_extension": ".py",
   "mimetype": "text/x-python",
   "name": "python",
   "nbconvert_exporter": "python",
   "pygments_lexer": "ipython3",
   "version": "3.9.7"
  }
 },
 "nbformat": 4,
 "nbformat_minor": 5
}
