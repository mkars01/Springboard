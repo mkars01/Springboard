{
 "cells": [
  {
   "cell_type": "markdown",
   "id": "28a0f920",
   "metadata": {},
   "source": [
    "# Chapter 1"
   ]
  },
  {
   "cell_type": "code",
   "execution_count": 127,
   "id": "da3cd0ca",
   "metadata": {},
   "outputs": [],
   "source": [
    "import pandas as pd\n",
    "import datetime as dt\n",
    "import numpy as np\n",
    "import matplotlib.pyplot as plt\n",
    "import missingno as msno\n",
    "from fuzzywuzzy import process\n",
    "from fuzzywuzzy import fuzz\n",
    "import recordlinkage"
   ]
  },
  {
   "cell_type": "code",
   "execution_count": 2,
   "id": "07317aea",
   "metadata": {},
   "outputs": [],
   "source": [
    "ride_sharing = pd.read_csv('ride_sharing_new.csv')\n",
    "# Convert tire_sizes to category\n",
    "ride_sharing['tire_sizes'] = ride_sharing['tire_sizes'].astype('category')\n",
    "# ride_sharing['ride_date'] = ride_sharing['ride_date'].astype('datetime64[ns]')"
   ]
  },
  {
   "cell_type": "code",
   "execution_count": 3,
   "id": "f08caf55",
   "metadata": {},
   "outputs": [
    {
     "name": "stdout",
     "output_type": "stream",
     "text": [
      "<class 'pandas.core.frame.DataFrame'>\n",
      "RangeIndex: 25764 entries, 0 to 25763\n",
      "Data columns (total 12 columns):\n",
      " #   Column           Non-Null Count  Dtype   \n",
      "---  ------           --------------  -----   \n",
      " 0   ride_id          25764 non-null  int64   \n",
      " 1   duration         25764 non-null  object  \n",
      " 2   station_A_id     25764 non-null  int64   \n",
      " 3   station_A_name   25764 non-null  object  \n",
      " 4   station_B_id     25764 non-null  int64   \n",
      " 5   station_B_name   25764 non-null  object  \n",
      " 6   bike_id          25764 non-null  int64   \n",
      " 7   user_type        25764 non-null  int64   \n",
      " 8   user_birth_year  25764 non-null  int64   \n",
      " 9   user_gender      25764 non-null  object  \n",
      " 10  tire_sizes       25764 non-null  category\n",
      " 11  ride_date        25764 non-null  object  \n",
      "dtypes: category(1), int64(6), object(5)\n",
      "memory usage: 2.2+ MB\n",
      "None\n",
      "count    25764.000000\n",
      "mean         2.008384\n",
      "std          0.704541\n",
      "min          1.000000\n",
      "25%          2.000000\n",
      "50%          2.000000\n",
      "75%          3.000000\n",
      "max          3.000000\n",
      "Name: user_type, dtype: float64\n",
      "count     25764\n",
      "unique        3\n",
      "top           2\n",
      "freq      12974\n",
      "Name: user_type_cat, dtype: int64\n"
     ]
    }
   ],
   "source": [
    "# Print the information of ride_sharing\n",
    "print(ride_sharing.info())\n",
    "\n",
    "# Print summary statistics of user_type column\n",
    "print(ride_sharing['user_type'].describe())\n",
    "\n",
    "# Convert user_type from integer to category\n",
    "ride_sharing['user_type_cat'] = ride_sharing['user_type'].astype('category')\n",
    "\n",
    "# Write an assert statement confirming the change\n",
    "assert ride_sharing['user_type_cat'].dtype == 'category'\n",
    "\n",
    "# Print new summary statistics \n",
    "print(ride_sharing['user_type_cat'].describe())"
   ]
  },
  {
   "cell_type": "code",
   "execution_count": 4,
   "id": "0ac63b7a",
   "metadata": {},
   "outputs": [
    {
     "name": "stdout",
     "output_type": "stream",
     "text": [
      "         duration duration_trim  duration_time\n",
      "0      12 minutes           12              12\n",
      "1      24 minutes           24              24\n",
      "2       8 minutes            8               8\n",
      "3       4 minutes            4               4\n",
      "4      11 minutes           11              11\n",
      "...           ...           ...            ...\n",
      "25759  11 minutes           11              11\n",
      "25760  10 minutes           10              10\n",
      "25761  14 minutes           14              14\n",
      "25762  14 minutes           14              14\n",
      "25763  29 minutes           29              29\n",
      "\n",
      "[25764 rows x 3 columns]\n",
      "11.388487812451483\n"
     ]
    }
   ],
   "source": [
    "# Strip duration of minutes\n",
    "ride_sharing['duration_trim'] = ride_sharing['duration'].str.strip('minutes')\n",
    "\n",
    "# Convert duration to integer\n",
    "ride_sharing['duration_time'] = ride_sharing['duration_trim'].astype('int')\n",
    "\n",
    "# Write an assert statement making sure of conversion\n",
    "assert ride_sharing['duration_time'].dtype == 'int'\n",
    "\n",
    "# Print formed columns and calculate average ride duration \n",
    "print(ride_sharing[['duration','duration_trim','duration_time']])\n",
    "print(ride_sharing['duration_time'].mean())"
   ]
  },
  {
   "cell_type": "code",
   "execution_count": 5,
   "id": "0e1d2734",
   "metadata": {},
   "outputs": [
    {
     "name": "stdout",
     "output_type": "stream",
     "text": [
      "count     25764\n",
      "unique        2\n",
      "top          27\n",
      "freq      19477\n",
      "Name: tire_sizes, dtype: int64\n"
     ]
    }
   ],
   "source": [
    "# Convert tire_sizes to integer\n",
    "ride_sharing['tire_sizes'] = ride_sharing['tire_sizes'].astype('int')\n",
    "\n",
    "# Set all values above 27 to 27\n",
    "ride_sharing.loc[ride_sharing['tire_sizes'] > 27, 'tire_sizes'] = 27\n",
    "\n",
    "# Reconvert tire_sizes back to categorical\n",
    "ride_sharing['tire_sizes'] = ride_sharing['tire_sizes'].astype('category')\n",
    "\n",
    "# Print tire size description\n",
    "print(ride_sharing['tire_sizes'].describe())"
   ]
  },
  {
   "cell_type": "code",
   "execution_count": 6,
   "id": "3e854303",
   "metadata": {},
   "outputs": [
    {
     "name": "stdout",
     "output_type": "stream",
     "text": [
      "2022-02-17 00:00:00\n"
     ]
    }
   ],
   "source": [
    "# Convert ride_date to datetime\n",
    "ride_sharing['ride_dt'] = pd.to_datetime(ride_sharing['ride_date'])\n",
    "\n",
    "# Save today's date\n",
    "today = pd.to_datetime(dt.date.today())\n",
    "\n",
    "# Set all in the future to today's date\n",
    "ride_sharing.loc[ride_sharing['ride_dt'] > today, 'ride_dt'] = today\n",
    "\n",
    "# Print maximum of ride_dt column\n",
    "print(ride_sharing['ride_dt'].max())"
   ]
  },
  {
   "cell_type": "code",
   "execution_count": 7,
   "id": "71903630",
   "metadata": {},
   "outputs": [
    {
     "name": "stdout",
     "output_type": "stream",
     "text": [
      "    ride_id    duration  user_birth_year\n",
      "33       33   2 minutes             1979\n",
      "34       33  16 minutes             1979\n",
      "56       55  11 minutes             1985\n",
      "57       55  11 minutes             1985\n",
      "73       71  11 minutes             1997\n",
      "74       71  11 minutes             1997\n",
      "92       89   9 minutes             1986\n",
      "93       89   9 minutes             2060\n"
     ]
    }
   ],
   "source": [
    "# Find duplicates\n",
    "duplicates = ride_sharing.duplicated('ride_id', keep=False)\n",
    "\n",
    "# Sort your duplicated rides\n",
    "duplicated_rides = ride_sharing[duplicates].sort_values('ride_id')\n",
    "\n",
    "# Print relevant columns of duplicated_rides\n",
    "print(duplicated_rides[['ride_id','duration','user_birth_year']])"
   ]
  },
  {
   "cell_type": "code",
   "execution_count": 9,
   "id": "2a4f3265",
   "metadata": {},
   "outputs": [],
   "source": [
    "# Drop complete duplicates from ride_sharing\n",
    "ride_dup = ride_sharing.drop_duplicates()\n",
    "\n",
    "# Create statistics dictionary for aggregation function\n",
    "statistics = {'user_birth_year': 'min', 'duration_time': 'mean'}\n",
    "\n",
    "# Group by ride_id and compute new statistics\n",
    "ride_unique = ride_dup.groupby('ride_id').agg(statistics).reset_index()\n",
    "\n",
    "# Find duplicated values again\n",
    "duplicates = ride_unique.duplicated(subset = 'ride_id', keep = False)\n",
    "duplicated_rides = ride_unique[duplicates == True]\n",
    "\n",
    "# Assert duplicates are processed\n",
    "assert duplicated_rides.shape[0] == 0"
   ]
  },
  {
   "cell_type": "code",
   "execution_count": 10,
   "id": "1d6bf6f8",
   "metadata": {
    "scrolled": true
   },
   "outputs": [
    {
     "name": "stdout",
     "output_type": "stream",
     "text": [
      "    ride_id  user_birth_year  duration_time\n",
      "0         0             1959           12.0\n",
      "1         1             1965           24.0\n",
      "2         2             1993            8.0\n",
      "3         3             1979            4.0\n",
      "4         4             1994           11.0\n",
      "5         5             1979           10.0\n",
      "6         6             1981           16.0\n",
      "7         7             1991            9.0\n",
      "8         8             1982           21.0\n",
      "9         9             1994            5.0\n",
      "10       10             1983           19.0\n",
      "11       11             1990            6.0\n",
      "12       12             1998            7.0\n",
      "13       13             1987          187.0\n",
      "14       14             1997           13.0\n",
      "15       15             1995            4.0\n",
      "16       16             1990           32.0\n",
      "17       17             1964            5.0\n",
      "18       18             2000           16.0\n",
      "19       19             2000           17.0\n",
      "20       20             1998           16.0\n",
      "21       21             1986           11.0\n",
      "22       22             1982           10.0\n",
      "23       23             1992            3.0\n",
      "24       24             1980           11.0\n",
      "25       25             1990            3.0\n",
      "26       26             1994           12.0\n",
      "27       27             1977            7.0\n",
      "28       28             1990            5.0\n",
      "29       29             1990            6.0\n",
      "30       30             1988            6.0\n",
      "31       31             1990            9.0\n",
      "32       32             1980           10.0\n",
      "33       33             1979            9.0\n",
      "34       34             1994           11.0\n",
      "35       35             1988           11.0\n",
      "36       36             1990            4.0\n",
      "37       37             1989            5.0\n",
      "38       38             1966            6.0\n",
      "39       39             1986            7.0\n",
      "40       40             1988            4.0\n",
      "41       41             1967           12.0\n",
      "42       42             1977            3.0\n",
      "43       43             1977            3.0\n",
      "44       44             1996            2.0\n",
      "45       45             1990            1.0\n",
      "46       46             1989            7.0\n",
      "47       47             1994            8.0\n",
      "48       48             1973           15.0\n",
      "49       49             1991            9.0\n"
     ]
    }
   ],
   "source": [
    "print(ride_unique.head(50))"
   ]
  },
  {
   "cell_type": "markdown",
   "id": "01f47d7a",
   "metadata": {},
   "source": [
    "# Chapter 2"
   ]
  },
  {
   "cell_type": "code",
   "execution_count": 35,
   "id": "7ec8d64e",
   "metadata": {},
   "outputs": [],
   "source": [
    "airlines = pd.read_csv('airlines_final.csv')\n",
    "categories = pd.read_csv('airline_categories.csv')"
   ]
  },
  {
   "cell_type": "code",
   "execution_count": 36,
   "id": "a69c2d24",
   "metadata": {},
   "outputs": [
    {
     "name": "stdout",
     "output_type": "stream",
     "text": [
      "      cleanliness           safety          satisfaction\n",
      "0           Clean          Neutral        Very satisfied\n",
      "1         Average        Very safe               Neutral\n",
      "2  Somewhat clean    Somewhat safe    Somewhat satisfied\n",
      "3  Somewhat dirty      Very unsafe  Somewhat unsatisfied\n",
      "4           Dirty  Somewhat unsafe      Very unsatisfied\n",
      "Cleanliness:  ['Clean' 'Average' 'Unacceptable' 'Somewhat clean' 'Somewhat dirty'\n",
      " 'Dirty'] \n",
      "\n",
      "Safety:  ['Neutral' 'Very safe' 'Somewhat safe' 'Very unsafe' 'Somewhat unsafe'] \n",
      "\n",
      "Satisfaction:  ['Very satisfied' 'Neutral' 'Somewhat satsified' 'Somewhat unsatisfied'\n",
      " 'Very unsatisfied'] \n",
      "\n"
     ]
    }
   ],
   "source": [
    "# Print categories DataFrame\n",
    "print(categories)\n",
    "\n",
    "# Print unique values of survey columns in airlines\n",
    "print('Cleanliness: ', airlines['cleanliness'].unique(), \"\\n\")\n",
    "print('Safety: ', airlines['safety'].unique(), \"\\n\")\n",
    "print('Satisfaction: ', airlines['satisfaction'].unique(), \"\\n\")"
   ]
  },
  {
   "cell_type": "code",
   "execution_count": 37,
   "id": "b6d3c737",
   "metadata": {},
   "outputs": [
    {
     "name": "stdout",
     "output_type": "stream",
     "text": [
      "    Unnamed: 0    id        day           airline  destination  dest_region  \\\n",
      "4            4  2992  Wednesday          AMERICAN        MIAMI      East US   \n",
      "17          18  2913     Friday  TURKISH AIRLINES     ISTANBUL  Middle East   \n",
      "89         100  2321  Wednesday         SOUTHWEST  LOS ANGELES      West US   \n",
      "\n",
      "   dest_size boarding_area   dept_time  wait_min   cleanliness         safety  \\\n",
      "4        Hub   Gates 50-59  12/31/2018       559  Unacceptable      Very safe   \n",
      "17       Hub  Gates 91-102  12/31/2018       225  Unacceptable      Very safe   \n",
      "89       Hub   Gates 20-39  12/31/2018       130  Unacceptable  Somewhat safe   \n",
      "\n",
      "          satisfaction     full_name  \\\n",
      "4   Somewhat satsified  Michael Ward   \n",
      "17  Somewhat satsified  Michael Ward   \n",
      "89  Somewhat satsified  Michael Ward   \n",
      "\n",
      "                                      survey_response  \n",
      "4                                     It was terrible  \n",
      "17                                          Not a fan  \n",
      "89  The food in the airport was really really expe...  \n"
     ]
    }
   ],
   "source": [
    "# Find the cleanliness category in airlines not in categories\n",
    "cat_clean = set(airlines['cleanliness']).difference(categories['cleanliness'])\n",
    "\n",
    "# Find rows with that category\n",
    "cat_clean_rows = airlines['cleanliness'].isin(cat_clean)\n",
    "\n",
    "# Print rows with inconsistent category\n",
    "print(airlines[cat_clean_rows])"
   ]
  },
  {
   "cell_type": "code",
   "execution_count": 38,
   "id": "5deab7a6",
   "metadata": {},
   "outputs": [
    {
     "name": "stdout",
     "output_type": "stream",
     "text": [
      "      Unnamed: 0    id       day        airline        destination  \\\n",
      "0              0  1351   Tuesday    UNITED INTL             KANSAI   \n",
      "1              1   373    Friday         ALASKA  SAN JOSE DEL CABO   \n",
      "2              2  2820  Thursday          DELTA        LOS ANGELES   \n",
      "3              3  1157   Tuesday      SOUTHWEST        LOS ANGELES   \n",
      "5              5   634  Thursday         ALASKA             NEWARK   \n",
      "...          ...   ...       ...            ...                ...   \n",
      "2472        2804  1475   Tuesday         ALASKA       NEW YORK-JFK   \n",
      "2473        2805  2222  Thursday      SOUTHWEST            PHOENIX   \n",
      "2474        2806  2684    Friday         UNITED            ORLANDO   \n",
      "2475        2807  2549   Tuesday        JETBLUE         LONG BEACH   \n",
      "2476        2808  2162  Saturday  CHINA EASTERN            QINGDAO   \n",
      "\n",
      "        dest_region dest_size boarding_area   dept_time  wait_min  \\\n",
      "0              Asia       Hub  Gates 91-102  12/31/2018       115   \n",
      "1     Canada/Mexico     Small   Gates 50-59  12/31/2018       135   \n",
      "2           West US       Hub   Gates 40-48  12/31/2018        70   \n",
      "3           West US       Hub   Gates 20-39  12/31/2018       190   \n",
      "5           East US       Hub   Gates 50-59  12/31/2018       140   \n",
      "...             ...       ...           ...         ...       ...   \n",
      "2472        East US       Hub   Gates 50-59  12/31/2018       280   \n",
      "2473        West US       Hub   Gates 20-39  12/31/2018       165   \n",
      "2474        East US       Hub   Gates 70-90  12/31/2018        92   \n",
      "2475        West US     Small    Gates 1-12  12/31/2018        95   \n",
      "2476           Asia     Large    Gates 1-12  12/31/2018       220   \n",
      "\n",
      "         cleanliness         safety        satisfaction         full_name  \\\n",
      "0              Clean        Neutral      Very satisfied      Michael Ward   \n",
      "1              Clean      Very safe      Very satisfied  Dr. Michael Ward   \n",
      "2            Average  Somewhat safe             Neutral      Michael Ward   \n",
      "3              Clean      Very safe  Somewhat satsified      Michael Ward   \n",
      "5     Somewhat clean      Very safe      Very satisfied      Michael Ward   \n",
      "...              ...            ...                 ...               ...   \n",
      "2472  Somewhat clean        Neutral  Somewhat satsified      Michael Ward   \n",
      "2473           Clean      Very safe      Very satisfied      Michael Ward   \n",
      "2474           Clean      Very safe      Very satisfied      Michael Ward   \n",
      "2475           Clean  Somewhat safe      Very satisfied      Michael Ward   \n",
      "2476           Clean      Very safe  Somewhat satsified      Michael Ward   \n",
      "\n",
      "                                        survey_response  \n",
      "0                                       It was terrible  \n",
      "1                                       It was terrible  \n",
      "2                                       It was terrible  \n",
      "3                                       It was terrible  \n",
      "5                              I didn't like the flight  \n",
      "...                                                 ...  \n",
      "2472  One of the other travelers was really loud and...  \n",
      "2473  One of the other travelers was really loud and...  \n",
      "2474  One of the other travelers was really loud and...  \n",
      "2475  One of the other travelers was really loud and...  \n",
      "2476  One of the other travelers was really loud and...  \n",
      "\n",
      "[2474 rows x 15 columns]\n"
     ]
    }
   ],
   "source": [
    "print(airlines[~cat_clean_rows])"
   ]
  },
  {
   "cell_type": "code",
   "execution_count": 39,
   "id": "710c712b",
   "metadata": {},
   "outputs": [
    {
     "name": "stdout",
     "output_type": "stream",
     "text": [
      "['Asia' 'Canada/Mexico' 'West US' 'East US' 'Midwest US' 'EAST US'\n",
      " 'Middle East' 'Europe' 'eur' 'Central/South America'\n",
      " 'Australia/New Zealand' 'middle east']\n",
      "['Hub' 'Small' '    Hub' 'Medium' 'Large' 'Hub     ' '    Small'\n",
      " 'Medium     ' '    Medium' 'Small     ' '    Large' 'Large     ']\n"
     ]
    }
   ],
   "source": [
    "# Print unique values of both columns\n",
    "print(airlines['dest_region'].unique())\n",
    "print(airlines['dest_size'].unique())"
   ]
  },
  {
   "cell_type": "code",
   "execution_count": 40,
   "id": "6d2f85d1",
   "metadata": {},
   "outputs": [
    {
     "name": "stdout",
     "output_type": "stream",
     "text": [
      "['asia' 'canada/mexico' 'west us' 'east us' 'midwest us' 'middle east'\n",
      " 'europe' 'central/south america' 'australia/new zealand']\n",
      "['Hub' 'Small' 'Medium' 'Large']\n"
     ]
    }
   ],
   "source": [
    "# Lower dest_region column and then replace \"eur\" with \"europe\"\n",
    "airlines['dest_region'] = airlines['dest_region'].str.lower() \n",
    "airlines['dest_region'] = airlines['dest_region'].replace({'eur':'europe'})\n",
    "\n",
    "# Remove white spaces from `dest_size`\n",
    "airlines['dest_size'] = airlines['dest_size'].str.strip()\n",
    "\n",
    "# Verify changes have been effected\n",
    "print(airlines['dest_region'].unique())\n",
    "print(airlines['dest_size'].unique())"
   ]
  },
  {
   "cell_type": "code",
   "execution_count": 41,
   "id": "7b4342b1",
   "metadata": {},
   "outputs": [
    {
     "name": "stdout",
     "output_type": "stream",
     "text": [
      "   Unnamed: 0    id        day      airline        destination    dest_region  \\\n",
      "0           0  1351    Tuesday  UNITED INTL             KANSAI           asia   \n",
      "1           1   373     Friday       ALASKA  SAN JOSE DEL CABO  canada/mexico   \n",
      "2           2  2820   Thursday        DELTA        LOS ANGELES        west us   \n",
      "3           3  1157    Tuesday    SOUTHWEST        LOS ANGELES        west us   \n",
      "4           4  2992  Wednesday     AMERICAN              MIAMI        east us   \n",
      "\n",
      "  dest_size boarding_area   dept_time  wait_min   cleanliness         safety  \\\n",
      "0       Hub  Gates 91-102  12/31/2018       115         Clean        Neutral   \n",
      "1     Small   Gates 50-59  12/31/2018       135         Clean      Very safe   \n",
      "2       Hub   Gates 40-48  12/31/2018        70       Average  Somewhat safe   \n",
      "3       Hub   Gates 20-39  12/31/2018       190         Clean      Very safe   \n",
      "4       Hub   Gates 50-59  12/31/2018       559  Unacceptable      Very safe   \n",
      "\n",
      "         satisfaction         full_name  survey_response wait_type day_week  \n",
      "0      Very satisfied      Michael Ward  It was terrible    medium  weekday  \n",
      "1      Very satisfied  Dr. Michael Ward  It was terrible    medium  weekday  \n",
      "2             Neutral      Michael Ward  It was terrible    medium  weekday  \n",
      "3  Somewhat satsified      Michael Ward  It was terrible      long  weekday  \n",
      "4  Somewhat satsified      Michael Ward  It was terrible      long  weekday  \n"
     ]
    }
   ],
   "source": [
    "# Create ranges for categories\n",
    "label_ranges = [0, 60, 180, np.inf]\n",
    "label_names = ['short', 'medium', 'long']\n",
    "\n",
    "# Create wait_type column\n",
    "airlines['wait_type'] = pd.cut(airlines['wait_min'], bins = label_ranges, \n",
    "                                labels = label_names)\n",
    "\n",
    "# Create mappings and replace\n",
    "mappings = {'Monday':'weekday', 'Tuesday':'weekday', 'Wednesday': 'weekday', \n",
    "            'Thursday': 'weekday', 'Friday': 'weekday', \n",
    "            'Saturday': 'weekend', 'Sunday': 'weekend'}\n",
    "\n",
    "airlines['day_week'] = airlines['day'].replace(mappings)\n",
    "print(airlines.head())"
   ]
  },
  {
   "cell_type": "code",
   "execution_count": 42,
   "id": "b819602e",
   "metadata": {},
   "outputs": [
    {
     "name": "stderr",
     "output_type": "stream",
     "text": [
      "C:\\Users\\mkars\\AppData\\Local\\Temp/ipykernel_23428/3304348909.py:2: FutureWarning: The default value of regex will change from True to False in a future version.\n",
      "  airlines['full_name'] = airlines['full_name'].str.replace(\"Dr.\",\"\")\n",
      "C:\\Users\\mkars\\AppData\\Local\\Temp/ipykernel_23428/3304348909.py:5: FutureWarning: The default value of regex will change from True to False in a future version.\n",
      "  airlines['full_name'] = airlines['full_name'].str.replace(\"Mr.\",\"\")\n",
      "C:\\Users\\mkars\\AppData\\Local\\Temp/ipykernel_23428/3304348909.py:11: FutureWarning: The default value of regex will change from True to False in a future version.\n",
      "  airlines['full_name'] = airlines['full_name'].str.replace(\"Ms.\",\"\")\n"
     ]
    }
   ],
   "source": [
    "# Replace \"Dr.\" with empty string \"\"\n",
    "airlines['full_name'] = airlines['full_name'].str.replace(\"Dr.\",\"\")\n",
    "\n",
    "# Replace \"Mr.\" with empty string \"\"\n",
    "airlines['full_name'] = airlines['full_name'].str.replace(\"Mr.\",\"\")\n",
    "\n",
    "# Replace \"Miss\" with empty string \"\"\n",
    "airlines['full_name'] = airlines['full_name'].str.replace(\"Miss\",\"\")\n",
    "\n",
    "# Replace \"Ms.\" with empty string \"\"\n",
    "airlines['full_name'] = airlines['full_name'].str.replace(\"Ms.\",\"\")\n",
    "\n",
    "# Assert that full_name has no honorifics\n",
    "assert airlines['full_name'].str.contains('Ms.|Mr.|Miss|Dr.').any() == False"
   ]
  },
  {
   "cell_type": "code",
   "execution_count": 45,
   "id": "c497e673",
   "metadata": {},
   "outputs": [
    {
     "name": "stdout",
     "output_type": "stream",
     "text": [
      "43      The airport personnell forgot to alert us of d...\n",
      "44      The airport personnell forgot to alert us of d...\n",
      "45      The airport personnell forgot to alert us of d...\n",
      "46      The airport personnell forgot to alert us of d...\n",
      "47      The airport personnell forgot to alert us of d...\n",
      "                              ...                        \n",
      "2472    One of the other travelers was really loud and...\n",
      "2473    One of the other travelers was really loud and...\n",
      "2474    One of the other travelers was really loud and...\n",
      "2475    One of the other travelers was really loud and...\n",
      "2476    One of the other travelers was really loud and...\n",
      "Name: survey_response, Length: 2434, dtype: object\n"
     ]
    }
   ],
   "source": [
    "# Store length of each row in survey_response column\n",
    "resp_length = airlines['survey_response'].str.len()\n",
    "\n",
    "# Find rows in airlines where resp_length > 40\n",
    "airlines_survey = airlines[resp_length > 40]\n",
    "\n",
    "# Assert minimum survey_response length is > 40\n",
    "assert airlines_survey['survey_response'].str.len().min() > 40\n",
    "\n",
    "# Print new survey_response column\n",
    "print(airlines_survey['survey_response'])"
   ]
  },
  {
   "cell_type": "markdown",
   "id": "0139317a",
   "metadata": {},
   "source": [
    "# Chapter 3"
   ]
  },
  {
   "cell_type": "code",
   "execution_count": 87,
   "id": "22128915",
   "metadata": {},
   "outputs": [],
   "source": [
    "banking = pd.read_csv('banking_dirty.csv')"
   ]
  },
  {
   "cell_type": "code",
   "execution_count": 88,
   "id": "39acd80f",
   "metadata": {},
   "outputs": [],
   "source": [
    "# Find values of acct_cur that are equal to 'euro'\n",
    "acct_eu = banking['acct_cur'] == 'euro'\n",
    "\n",
    "# Convert acct_amount where it is in euro to dollars\n",
    "banking.loc[acct_eu, 'acct_amount'] = banking.loc[acct_eu, 'acct_amount'] * 1.1\n",
    "\n",
    "# Unify acct_cur column by changing 'euro' values to 'dollar'\n",
    "banking.loc[acct_eu, 'acct_cur'] = 'dollar'\n",
    "\n",
    "# Assert that only dollar currency remains\n",
    "assert banking['acct_cur'].unique() == 'dollar'"
   ]
  },
  {
   "cell_type": "code",
   "execution_count": 89,
   "id": "7a8a9005",
   "metadata": {},
   "outputs": [
    {
     "name": "stdout",
     "output_type": "stream",
     "text": [
      "0     2/9/2018\n",
      "1     28-02-19\n",
      "2     25-04-18\n",
      "3    7/11/2017\n",
      "4     14-05-18\n",
      "Name: account_opened, dtype: object\n",
      "0     2018\n",
      "1      NaN\n",
      "2      NaN\n",
      "3     2017\n",
      "4      NaN\n",
      "      ... \n",
      "95     NaN\n",
      "96    2017\n",
      "97     NaN\n",
      "98    2017\n",
      "99    2017\n",
      "Name: acct_year, Length: 100, dtype: object\n"
     ]
    }
   ],
   "source": [
    "# Print the header of account_opend\n",
    "print(banking['account_opened'].head())\n",
    "\n",
    "# Convert account_opened to datetime\n",
    "banking['account_opened'] = pd.to_datetime(banking['account_opened'],\n",
    "                                           # Infer datetime format\n",
    "                                           infer_datetime_format = True,\n",
    "                                           # Return missing value for error\n",
    "                                           errors = 'coerce') \n",
    "\n",
    "# Get year of account opened\n",
    "banking['acct_year'] = banking['account_opened'].dt.strftime('%Y')\n",
    "\n",
    "# Print acct_year\n",
    "print(banking['acct_year'])"
   ]
  },
  {
   "cell_type": "code",
   "execution_count": 90,
   "id": "4cf51bb5",
   "metadata": {},
   "outputs": [
    {
     "name": "stdout",
     "output_type": "stream",
     "text": [
      "Number of inconsistent investments:  20\n"
     ]
    }
   ],
   "source": [
    "# Store fund columns to sum against\n",
    "fund_columns = ['fund_A', 'fund_B', 'fund_C', 'fund_D']\n",
    "\n",
    "# Find rows where fund_columns row sum == inv_amount\n",
    "inv_equ = banking[fund_columns].sum(axis = 1) == banking['inv_amount']\n",
    "\n",
    "# Store consistent and inconsistent data\n",
    "consistent_inv = banking[inv_equ]\n",
    "inconsistent_inv = banking[~inv_equ]\n",
    "\n",
    "# Store consistent and inconsistent data\n",
    "print(\"Number of inconsistent investments: \", inconsistent_inv.shape[0])"
   ]
  },
  {
   "cell_type": "code",
   "execution_count": 91,
   "id": "81acff2f",
   "metadata": {},
   "outputs": [
    {
     "name": "stdout",
     "output_type": "stream",
     "text": [
      "Number of inconsistent ages:  8\n"
     ]
    }
   ],
   "source": [
    "# Store today's date and find ages\n",
    "# today = pd.to_datetime(dt.date.today())\n",
    "today = pd.to_datetime('2020-01-01')\n",
    "ages_manual = today.year - pd.to_datetime(banking['birth_date']).dt.year\n",
    "\n",
    "# Find rows where age column == ages_manual\n",
    "age_equ = ages_manual == banking['age']\n",
    "\n",
    "# Store consistent and inconsistent data\n",
    "consistent_ages = banking[age_equ]\n",
    "inconsistent_ages = banking[~age_equ]\n",
    "\n",
    "# Store consistent and inconsistent data\n",
    "print(\"Number of inconsistent ages: \", inconsistent_ages.shape[0])"
   ]
  },
  {
   "cell_type": "code",
   "execution_count": 92,
   "id": "2df80c29",
   "metadata": {},
   "outputs": [
    {
     "name": "stdout",
     "output_type": "stream",
     "text": [
      "Unnamed: 0           0\n",
      "cust_id              9\n",
      "birth_date           0\n",
      "age                  0\n",
      "acct_amount         14\n",
      "inv_amount          12\n",
      "fund_A              12\n",
      "fund_B              12\n",
      "fund_C              12\n",
      "fund_D              12\n",
      "account_opened      60\n",
      "last_transaction     0\n",
      "acct_cur             0\n",
      "acct_year           60\n",
      "dtype: int64\n"
     ]
    },
    {
     "data": {
      "image/png": "[encoded data removed]",
      "text/plain": [
       "<Figure size 1800x720 with 2 Axes>"
      ]
     },
     "metadata": {
      "needs_background": "light"
     },
     "output_type": "display_data"
    }
   ],
   "source": [
    "# Print number of missing values in banking\n",
    "print(banking.isna().sum())\n",
    "\n",
    "# Visualize missingness matrix\n",
    "msno.matrix(banking)\n",
    "plt.show()"
   ]
  },
  {
   "cell_type": "code",
   "execution_count": 93,
   "id": "4b7218b3",
   "metadata": {},
   "outputs": [
    {
     "data": {
      "image/png": "[encoded data removed]",
      "text/plain": [
       "<Figure size 1800x720 with 2 Axes>"
      ]
     },
     "metadata": {
      "needs_background": "light"
     },
     "output_type": "display_data"
    }
   ],
   "source": [
    "# Sort banking by age and visualize\n",
    "banking_sorted = banking.sort_values(by='age')\n",
    "msno.matrix(banking_sorted)\n",
    "plt.show()"
   ]
  },
  {
   "cell_type": "code",
   "execution_count": 94,
   "id": "c3b75223",
   "metadata": {},
   "outputs": [
    {
     "name": "stdout",
     "output_type": "stream",
     "text": [
      "Unnamed: 0           0\n",
      "cust_id              0\n",
      "birth_date           0\n",
      "age                  0\n",
      "acct_amount          0\n",
      "inv_amount          12\n",
      "fund_A              12\n",
      "fund_B              12\n",
      "fund_C              12\n",
      "fund_D              12\n",
      "account_opened      54\n",
      "last_transaction     0\n",
      "acct_cur             0\n",
      "acct_year           54\n",
      "dtype: int64\n"
     ]
    }
   ],
   "source": [
    "# Drop missing values of cust_id\n",
    "banking_fullid = banking.dropna(subset = ['cust_id'])\n",
    "\n",
    "# Compute estimated acct_amount\n",
    "acct_imp = banking_fullid['inv_amount'] * 5\n",
    "\n",
    "# Impute missing acct_amount with corresponding acct_imp\n",
    "banking_imputed = banking_fullid.fillna({'acct_amount':acct_imp})\n",
    "\n",
    "# Print number of missing values\n",
    "print(banking_imputed.isna().sum())"
   ]
  },
  {
   "cell_type": "markdown",
   "id": "aa8082fb",
   "metadata": {},
   "source": [
    "# Chapter 4"
   ]
  },
  {
   "cell_type": "code",
   "execution_count": 99,
   "id": "7ee61c4a",
   "metadata": {},
   "outputs": [
    {
     "data": {
      "text/plain": [
       "90"
      ]
     },
     "execution_count": 99,
     "metadata": {},
     "output_type": "execute_result"
    }
   ],
   "source": [
    "fuzz.WRatio('Houston Rockets', 'Rockets')"
   ]
  },
  {
   "cell_type": "code",
   "execution_count": 100,
   "id": "9e87dd79",
   "metadata": {},
   "outputs": [
    {
     "data": {
      "text/plain": [
       "86"
      ]
     },
     "execution_count": 100,
     "metadata": {},
     "output_type": "execute_result"
    }
   ],
   "source": [
    "fuzz.WRatio('Houston Rockets vs Los Angeles Lakers', 'Lakers vs Rockets')"
   ]
  },
  {
   "cell_type": "code",
   "execution_count": 102,
   "id": "84e38e03",
   "metadata": {},
   "outputs": [
    {
     "data": {
      "text/plain": [
       "48"
      ]
     },
     "execution_count": 102,
     "metadata": {},
     "output_type": "execute_result"
    }
   ],
   "source": [
    "fuzz.WRatio('Osama bin Laden', 'Barack Hussein Obama')"
   ]
  },
  {
   "cell_type": "code",
   "execution_count": 129,
   "id": "e69cddaa",
   "metadata": {},
   "outputs": [],
   "source": [
    "restaurants = pd.read_csv('restaurants_L2_dirty (mpw).csv')"
   ]
  },
  {
   "cell_type": "code",
   "execution_count": 130,
   "id": "d82eac7e",
   "metadata": {},
   "outputs": [
    {
     "name": "stdout",
     "output_type": "stream",
     "text": [
      "['american' 'ammereican' 'californian' 'japanese' 'cajun/creole'\n",
      " 'hot dogs' 'diners' 'america' 'delis' 'hamburgers' 'seafood' 'merican'\n",
      " 'italiian' 'coffee shops' 'russian' 'steakhouses' 'mexican/tex-mex'\n",
      " 'ameerrican' 'italiann' 'asiian' 'mexican' 'middle eastern' 'asiane'\n",
      " 'amurican' 'americen' 'asiaan' 'asian' 'vietnamese' 'health food'\n",
      " 'american ( new )' 'pacific new wave' 'americann' 'ameerican'\n",
      " 'indonesian' 'eclectic' 'ameriican' 'chicken' 'fast food' 'italiaan'\n",
      " 'southern/soul' 'amerycan' 'aamerican' 'amerrican' 'murican' 'coffeebar'\n",
      " 'itali' 'continental' 'french ( new )' 'asiann' 'americano' 'desserts'\n",
      " 'asianne' 'italien' 'americin' 'italiano' 'italianne' 'chinese'\n",
      " 'itallian' 'asiat' 'ammericann']\n"
     ]
    }
   ],
   "source": [
    "print(restaurants['cuisine_type'].unique())"
   ]
  },
  {
   "cell_type": "code",
   "execution_count": 131,
   "id": "f246e130",
   "metadata": {},
   "outputs": [
    {
     "name": "stdout",
     "output_type": "stream",
     "text": [
      "[('asian', 100), ('asiian', 91), ('asiane', 91), ('asiaan', 91), ('asiann', 91), ('asianne', 83), ('asiat', 80), ('italiann', 72), ('indonesian', 72), ('italiano', 72), ('italianne', 72), ('russian', 67), ('american', 62), ('italiian', 62), ('amurican', 62), ('italiaan', 62), ('itallian', 62), ('americann', 57), ('ameerican', 57), ('ameriican', 57), ('aamerican', 57), ('amerrican', 57), ('americano', 57), ('ammereican', 54), ('californian', 54), ('japanese', 54), ('mexican/tex-mex', 54), ('ameerrican', 54), ('american ( new )', 54), ('ammericann', 54), ('america', 50), ('merican', 50), ('mexican', 50), ('murican', 50), ('italien', 50), ('americen', 46), ('amerycan', 46), ('americin', 46), ('itali', 40), ('cajun/creole', 36), ('diners', 36), ('middle eastern', 36), ('vietnamese', 36), ('pacific new wave', 36), ('fast food', 36), ('continental', 36), ('seafood', 33), ('chicken', 33), ('chinese', 33), ('hamburgers', 27), ('steakhouses', 25), ('southern/soul', 22), ('delis', 20), ('hot dogs', 18), ('coffee shops', 18), ('health food', 18), ('eclectic', 18), ('coffeebar', 18), ('french ( new )', 18), ('desserts', 18)]\n",
      "[('american', 100), ('americann', 94), ('ameerican', 94), ('ameriican', 94), ('aamerican', 94), ('amerrican', 94), ('americano', 94), ('america', 93), ('merican', 93), ('american ( new )', 90), ('ammereican', 89), ('ameerrican', 89), ('ammericann', 89), ('amurican', 88), ('americen', 88), ('amerycan', 88), ('americin', 88), ('mexican', 80), ('murican', 80), ('mexican/tex-mex', 68), ('asian', 62), ('asiian', 57), ('asiane', 57), ('asiaan', 57), ('asiann', 57), ('californian', 53), ('russian', 53), ('asianne', 53), ('italiian', 50), ('italiann', 50), ('italiaan', 50), ('italiano', 50), ('itallian', 50), ('italianne', 47), ('asiat', 46), ('middle eastern', 45), ('pacific new wave', 45), ('hamburgers', 44), ('indonesian', 44), ('chicken', 40), ('itali', 40), ('italien', 40), ('japanese', 38), ('eclectic', 38), ('delis', 36), ('southern/soul', 34), ('french ( new )', 34), ('vietnamese', 33), ('cajun/creole', 30), ('diners', 29), ('seafood', 27), ('chinese', 27), ('desserts', 25), ('coffeebar', 24), ('steakhouses', 21), ('health food', 21), ('continental', 21), ('fast food', 12), ('coffee shops', 11), ('hot dogs', 0)]\n",
      "[('italiian', 93), ('italiann', 93), ('italiaan', 93), ('italiano', 93), ('itallian', 93), ('italianne', 88), ('italien', 86), ('itali', 83), ('asian', 67), ('asiian', 62), ('asiane', 62), ('asiaan', 62), ('asiann', 62), ('asianne', 57), ('californian', 56), ('american', 53), ('amurican', 53), ('continental', 51), ('americann', 50), ('ameerican', 50), ('ameriican', 50), ('aamerican', 50), ('amerrican', 50), ('americano', 50), ('asiat', 50), ('ammereican', 47), ('ameerrican', 47), ('indonesian', 47), ('ammericann', 47), ('america', 43), ('merican', 43), ('russian', 43), ('mexican', 43), ('murican', 43), ('japanese', 40), ('americen', 40), ('amerycan', 40), ('americin', 40), ('mexican/tex-mex', 39), ('american ( new )', 39), ('pacific new wave', 39), ('middle eastern', 38), ('vietnamese', 35), ('delis', 33), ('diners', 31), ('chicken', 29), ('chinese', 29), ('health food', 27), ('eclectic', 27), ('steakhouses', 26), ('southern/soul', 26), ('cajun/creole', 21), ('seafood', 14), ('hot dogs', 13), ('french ( new )', 13), ('desserts', 13), ('hamburgers', 12), ('fast food', 12), ('coffeebar', 12), ('coffee shops', 0)]\n"
     ]
    }
   ],
   "source": [
    "# Store the unique values of cuisine_type in unique_types\n",
    "unique_types = restaurants['cuisine_type'].unique()\n",
    "\n",
    "# Calculate similarity of 'asian' to all values of unique_types\n",
    "print(process.extract('asian', unique_types, limit = len(unique_types)))\n",
    "\n",
    "# Calculate similarity of 'american' to all values of unique_types\n",
    "print(process.extract('american', unique_types, limit = len(unique_types)))\n",
    "\n",
    "# Calculate similarity of 'italian' to all values of unique_types\n",
    "print(process.extract('italian', unique_types, limit = len(unique_types)))"
   ]
  },
  {
   "cell_type": "code",
   "execution_count": 132,
   "id": "f01cfbf7",
   "metadata": {},
   "outputs": [
    {
     "name": "stdout",
     "output_type": "stream",
     "text": [
      "['american' 'californian' 'japanese' 'cajun/creole' 'hot dogs' 'diners'\n",
      " 'delis' 'hamburgers' 'seafood' 'italian' 'coffee shops' 'russian'\n",
      " 'steakhouses' 'mexican/tex-mex' 'asian' 'middle eastern' 'vietnamese'\n",
      " 'health food' 'pacific new wave' 'indonesian' 'eclectic' 'chicken'\n",
      " 'fast food' 'southern/soul' 'coffeebar' 'continental' 'french ( new )'\n",
      " 'desserts' 'chinese']\n"
     ]
    }
   ],
   "source": [
    "categories = ['italian', 'asian', 'american']\n",
    "\n",
    "# Iterate through categories\n",
    "for cuisine in categories:  \n",
    "  # Create a list of matches, comparing cuisine with the cuisine_type column\n",
    "  matches = process.extract(cuisine, restaurants['cuisine_type'].unique(), limit=len(restaurants['cuisine_type'].unique()))\n",
    "\n",
    "  # Iterate through the list of matches\n",
    "  for match in matches:\n",
    "     # Check whether the similarity score is greater than or equal to 80\n",
    "    if match[1] >= 80:\n",
    "      # If it is, select all rows where the cuisine_type is spelled this way, and set them to the correct cuisine\n",
    "      restaurants.loc[restaurants['cuisine_type'] == match[0]] = cuisine\n",
    "      \n",
    "# Inspect the final result\n",
    "print(restaurants['cuisine_type'].unique())"
   ]
  },
  {
   "cell_type": "markdown",
   "id": "29e8a15b",
   "metadata": {},
   "source": [
    "# Chapter 4 - part 2"
   ]
  },
  {
   "cell_type": "code",
   "execution_count": 133,
   "id": "fee94555",
   "metadata": {},
   "outputs": [],
   "source": [
    "restaurants = pd.read_csv('restaurants_L2_dirty.csv')\n",
    "restaurants_new = pd.read_csv('restaurants_L2.csv')"
   ]
  },
  {
   "cell_type": "code",
   "execution_count": 135,
   "id": "94e908e4",
   "metadata": {},
   "outputs": [
    {
     "name": "stdout",
     "output_type": "stream",
     "text": [
      "MultiIndex([( 0,   0),\n",
      "            ( 0,   1),\n",
      "            ( 0,   2),\n",
      "            ( 0,   3),\n",
      "            ( 0,   4),\n",
      "            ( 0,   8),\n",
      "            ( 0,   9),\n",
      "            ( 0,  13),\n",
      "            ( 0,  14),\n",
      "            ( 0,  17),\n",
      "            ...\n",
      "            (55, 172),\n",
      "            (55, 180),\n",
      "            (55, 190),\n",
      "            (55, 194),\n",
      "            (55, 201),\n",
      "            (55, 221),\n",
      "            (55, 230),\n",
      "            (55, 233),\n",
      "            (55, 238),\n",
      "            (55, 241)],\n",
      "           length=3631)\n"
     ]
    }
   ],
   "source": [
    "# Create an indexer and object and find possible pairs\n",
    "indexer = recordlinkage.Index()\n",
    "\n",
    "# Block pairing on cuisine_type\n",
    "indexer.block('cuisine_type')\n",
    "\n",
    "# Generate pairs\n",
    "pairs = indexer.index(restaurants, restaurants_new)\n",
    "print(pairs)"
   ]
  },
  {
   "cell_type": "code",
   "execution_count": 136,
   "id": "049d02cb",
   "metadata": {},
   "outputs": [
    {
     "name": "stdout",
     "output_type": "stream",
     "text": [
      "        city  cuisine_type  name\n",
      "0  0       0             1   0.0\n",
      "   1       0             1   0.0\n",
      "   2       0             1   0.0\n",
      "   3       0             1   0.0\n",
      "   4       0             1   0.0\n",
      "...      ...           ...   ...\n",
      "55 221     1             1   0.0\n",
      "   230     1             1   0.0\n",
      "   233     1             1   0.0\n",
      "   238     1             1   0.0\n",
      "   241     1             1   0.0\n",
      "\n",
      "[3631 rows x 3 columns]\n"
     ]
    }
   ],
   "source": [
    "# Create a comparison object\n",
    "comp_cl = recordlinkage.Compare()\n",
    "\n",
    "# Find exact matches on city, cuisine_types - \n",
    "comp_cl.exact('city', 'city', label='city')\n",
    "comp_cl.exact('cuisine_type', 'cuisine_type', label='cuisine_type')\n",
    "\n",
    "# Find similar matches of rest_name\n",
    "comp_cl.string('rest_name', 'rest_name', label='name', threshold = 0.8) \n",
    "\n",
    "# Get potential matches and print\n",
    "potential_matches = comp_cl.compute(pairs, restaurants, restaurants_new)\n",
    "print(potential_matches)"
   ]
  },
  {
   "cell_type": "code",
   "execution_count": 140,
   "id": "97afae18",
   "metadata": {},
   "outputs": [
    {
     "name": "stdout",
     "output_type": "stream",
     "text": [
      "       city  cuisine_type  name\n",
      "1  3      1             1   1.0\n",
      "7  13     1             1   1.0\n",
      "12 17     1             1   1.0\n",
      "20 20     1             1   1.0\n",
      "27 21     1             1   1.0\n",
      "28 1      1             1   1.0\n",
      "40 0      1             1   1.0\n",
      "43 8      1             1   1.0\n",
      "50 9      1             1   1.0\n",
      "53 4      1             1   1.0\n",
      "67 14     1             1   1.0\n",
      "74 2      1             1   1.0\n",
      "21 11     1             1   1.0\n",
      "47 19     1             1   1.0\n",
      "57 16     1             1   1.0\n",
      "73 6      1             1   1.0\n",
      "75 10     1             1   1.0\n",
      "26 12     1             1   1.0\n",
      "65 5      1             1   1.0\n",
      "71 18     1             1   1.0\n",
      "79 7      1             1   1.0\n",
      "55 15     1             1   1.0\n"
     ]
    }
   ],
   "source": [
    "# Isolate potential matches with row sum >=3\n",
    "matches = potential_matches[potential_matches.sum(axis = 1) >= 3]\n",
    "print(matches)"
   ]
  },
  {
   "cell_type": "code",
   "execution_count": 141,
   "id": "24551060",
   "metadata": {},
   "outputs": [
    {
     "name": "stdout",
     "output_type": "stream",
     "text": [
      "     Unnamed: 0           rest_name  \\\n",
      "22           22     gramercy tavern   \n",
      "23           23               jo jo   \n",
      "24           24          lespinasse   \n",
      "25           25               march   \n",
      "26           26          mesa grill   \n",
      "..          ...                 ...   \n",
      "331         331   vivande porta via   \n",
      "332         332  vivande ristorante   \n",
      "333         333        world wrapps   \n",
      "334         334             wu kong   \n",
      "335         335           yank sing   \n",
      "\n",
      "                                            rest_addr           city  \\\n",
      "22   42 e. 20th st. between park ave. s and broadway        new york   \n",
      "23                                   160 e. 64th st.        new york   \n",
      "24                                     2 e. 55th st.        new york   \n",
      "25                                   405 e. 58th st.        new york   \n",
      "26          102 5th ave. between 15th and 16th sts .        new york   \n",
      "..                                                ...            ...   \n",
      "331                                2125 fillmore st.   san francisco   \n",
      "332                             670 golden gate ave.   san francisco   \n",
      "333                                2257 chestnut st.   san francisco   \n",
      "334                                    101 spear st.   san francisco   \n",
      "335                                  427 battery st.   san francisco   \n",
      "\n",
      "          phone cuisine_type  \n",
      "22   2124770777     american  \n",
      "23   2122235656     american  \n",
      "24   2123396719     american  \n",
      "25   2127546272     american  \n",
      "26   2128077400     american  \n",
      "..          ...          ...  \n",
      "331  4153464430      italian  \n",
      "332  4156739245      italian  \n",
      "333  4155639727     american  \n",
      "334  4159579300        asian  \n",
      "335  4155414949        asian  \n",
      "\n",
      "[314 rows x 6 columns]\n"
     ]
    }
   ],
   "source": [
    "# Get values of second column index of matches\n",
    "matching_indices = matches.index.get_level_values(1)\n",
    "\n",
    "# Subset restaurants_new based on non-duplicate values\n",
    "non_dup = restaurants_new[~restaurants_new.index.isin(matching_indices)]\n",
    "print(non_dup)"
   ]
  },
  {
   "cell_type": "code",
   "execution_count": 142,
   "id": "f8a7741b",
   "metadata": {},
   "outputs": [
    {
     "name": "stdout",
     "output_type": "stream",
     "text": [
      "     Unnamed: 0           rest_name                 rest_addr           city  \\\n",
      "0             0              kokomo         6333 w. third st.             la   \n",
      "1             1              feenix   8358 sunset blvd. west       hollywood   \n",
      "2             2             parkway      510 s. arroyo pkwy .       pasadena   \n",
      "3             3                r-23          923 e. third st.    los angeles   \n",
      "4             4               gumbo         6333 w. third st.             la   \n",
      "..          ...                 ...                       ...            ...   \n",
      "331         331   vivande porta via        2125 fillmore st.   san francisco   \n",
      "332         332  vivande ristorante     670 golden gate ave.   san francisco   \n",
      "333         333        world wrapps        2257 chestnut st.   san francisco   \n",
      "334         334             wu kong            101 spear st.   san francisco   \n",
      "335         335           yank sing          427 battery st.   san francisco   \n",
      "\n",
      "          phone  cuisine_type  \n",
      "0    2139330773      american  \n",
      "1    2138486677      american  \n",
      "2    8187951001   californian  \n",
      "3    2136877178      japanese  \n",
      "4    2139330358  cajun/creole  \n",
      "..          ...           ...  \n",
      "331  4153464430       italian  \n",
      "332  4156739245       italian  \n",
      "333  4155639727      american  \n",
      "334  4159579300         asian  \n",
      "335  4155414949         asian  \n",
      "\n",
      "[396 rows x 6 columns]\n"
     ]
    }
   ],
   "source": [
    "# Append non_dup to restaurants\n",
    "full_restaurants = restaurants.append(non_dup)\n",
    "print(full_restaurants)"
   ]
  }
 ],
 "metadata": {
  "kernelspec": {
   "display_name": "Python 3 (ipykernel)",
   "language": "python",
   "name": "python3"
  },
  "language_info": {
   "codemirror_mode": {
    "name": "ipython",
    "version": 3
   },
   "file_extension": ".py",
   "mimetype": "text/x-python",
   "name": "python",
   "nbconvert_exporter": "python",
   "pygments_lexer": "ipython3",
   "version": "3.9.7"
  }
 },
 "nbformat": 4,
 "nbformat_minor": 5
}
