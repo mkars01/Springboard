{
 "cells": [
  {
   "cell_type": "markdown",
   "id": "234cb4f0",
   "metadata": {},
   "source": [
    "# Unix Commands\n",
    "\n",
    "pwd - print working directory\n",
    "ls - listing\n",
    "cd - change directory\n",
    "cd .. - move up 1 directory\n",
    "touch - create an empty file\n",
    "~ - home directory\n",
    "cp - copy\n",
    "mv - move\n",
    "mv course.txt old-course.txt (rename)\n",
    "rm - remove\n",
    "rmdir - remove directory\n",
    "mkdir - create directory\n",
    "/tmp - temp directory (under root)\n",
    "cat - view file\n",
    "less - view file with paging\n",
    "head - displays first 10 rows of file\n",
    "man - manual for commands\n",
    "tail - displays the last rows of a file\n",
    "cut - displays columns in a file ex. cut -d , -f 1 seasonal/spring.csv will display the first column of the csv file\n",
    "history - shows history of command line instructions\n",
    "grep - searches files for text ex. grep bicuspid seasonal/winter.csv\n",
    "paste - combine columns from multiple files\n",
    "Use \">\" to output results to a file\n",
    "Use \"|\" to output results to another command\n",
    "wc - counts words and lines\n",
    "wildcards are \"*\" match multiple characters; \"?\" match single character; \"[...]\" matches any one of the characters inside the brackets; \"{...}\" matches any of the comma-separated patterns inside the curly braces\n",
    "sort - sort records\n",
    "uniq - combines duplicate adjacent rows into single row\n",
    "Cntl + c - stop command from running\n",
    "echo - display string or variable (use $ to indicate variable - ex. $USER)\n",
    "Use \"=\" to define and set variables - ex. testing=seasonal/winter.csv\n",
    "Use \"$@\" in a file to create a placeholder for input parms\n",
    "Use \"$1\", \"$2\" in a file to create multiple placeholders for input parms\n"
   ]
  },
  {
   "cell_type": "markdown",
   "id": "f575d4b1",
   "metadata": {},
   "source": [
    "# GREP Options\n",
    "-c: print a count of matching lines rather than the lines themselves\n",
    "-h: do not print the names of files when searching multiple files\n",
    "-i: ignore case (e.g., treat \"Regression\" and \"regression\" as matches)\n",
    "-l: print the names of files that contain matches, not the matches\n",
    "-n: print line numbers for matching lines\n",
    "-v: invert the match, i.e., only show lines that don't match"
   ]
  },
  {
   "cell_type": "code",
   "execution_count": 6,
   "id": "e897db48",
   "metadata": {},
   "outputs": [
    {
     "data": {
      "text/plain": [
       "'C:\\\\Users\\\\mkars\\\\Springboard\\\\repo\\\\Springboard'"
      ]
     },
     "execution_count": 6,
     "metadata": {},
     "output_type": "execute_result"
    }
   ],
   "source": [
    "%pwd"
   ]
  },
  {
   "cell_type": "code",
   "execution_count": 4,
   "id": "b0a327e9",
   "metadata": {},
   "outputs": [
    {
     "name": "stdout",
     "output_type": "stream",
     "text": [
      "Conditionals and Iterators.ipynb\n",
      "Data Structures.ipynb\n",
      "DataCamp Intermediate Python Capstone.ipynb\n",
      "Git Exercises.ipynb\n",
      "Pandas DataFrames.ipynb\n",
      "README.md\n",
      "Testing Jupyter.ipynb\n",
      "Unix Commands.ipynb\n",
      "desktop.ini\n",
      "/c/Users/mkars/Springboard/repo/Springboard\n",
      "mkars\n"
     ]
    }
   ],
   "source": [
    "%%bash\n",
    "ls\n",
    "pwd\n",
    "whoami"
   ]
  },
  {
   "cell_type": "code",
   "execution_count": 7,
   "id": "fbf7da3e",
   "metadata": {
    "scrolled": true
   },
   "outputs": [
    {
     "name": "stdout",
     "output_type": "stream",
     "text": [
      "Microsoft Windows [Version 10.0.22000.376]\r\n",
      "(c) Microsoft Corporation. All rights reserved.\r\n",
      "\r\n",
      "(base) C:\\Users\\mkars\\Springboard\\repo\\Springboard>dir\n",
      " Volume in drive C is Windows\r\n",
      " Volume Serial Number is 8A76-F622\r\n",
      "\r\n",
      " Directory of C:\\Users\\mkars\\Springboard\\repo\\Springboard\r\n",
      "\r\n",
      "01/07/2022  09:30 AM    <DIR>          .\r\n",
      "01/03/2022  12:33 PM    <DIR>          ..\r\n",
      "01/05/2022  12:10 PM    <DIR>          .git\r\n",
      "01/07/2022  09:21 AM    <DIR>          .ipynb_checkpoints\r\n",
      "12/31/2021  01:57 PM             9,560 Conditionals and Iterators.ipynb\r\n",
      "01/07/2022  09:20 AM            10,708 Data Structures.ipynb\r\n",
      "12/31/2021  02:55 PM             8,084 DataCamp Intermediate Python Capstone.ipynb\r\n",
      "01/05/2022  11:50 AM            49,451 Git Exercises.ipynb\r\n",
      "12/31/2021  12:52 PM             4,339 Pandas DataFrames.ipynb\r\n",
      "01/02/2022  12:20 PM                13 README.md\r\n",
      "12/28/2021  11:42 AM            43,469 Testing Jupyter.ipynb\r\n",
      "01/07/2022  09:30 AM             1,766 Unix Commands.ipynb\r\n",
      "               8 File(s)        127,390 bytes\r\n",
      "               4 Dir(s)  938,478,100,480 bytes free\r\n",
      "\r\n",
      "(base) C:\\Users\\mkars\\Springboard\\repo\\Springboard>"
     ]
    }
   ],
   "source": [
    "%%cmd\n",
    "dir"
   ]
  },
  {
   "cell_type": "code",
   "execution_count": 7,
   "id": "cb12efe9",
   "metadata": {},
   "outputs": [
    {
     "data": {
      "application/json": {
       "cell": {
        "!": "OSMagics",
        "HTML": "Other",
        "SVG": "Other",
        "bash": "Other",
        "capture": "ExecutionMagics",
        "cmd": "Other",
        "debug": "ExecutionMagics",
        "file": "Other",
        "html": "DisplayMagics",
        "javascript": "DisplayMagics",
        "js": "DisplayMagics",
        "latex": "DisplayMagics",
        "markdown": "DisplayMagics",
        "perl": "Other",
        "prun": "ExecutionMagics",
        "pypy": "Other",
        "python": "Other",
        "python2": "Other",
        "python3": "Other",
        "ruby": "Other",
        "script": "ScriptMagics",
        "sh": "Other",
        "svg": "DisplayMagics",
        "sx": "OSMagics",
        "system": "OSMagics",
        "time": "ExecutionMagics",
        "timeit": "ExecutionMagics",
        "writefile": "OSMagics"
       },
       "line": {
        "alias": "OSMagics",
        "alias_magic": "BasicMagics",
        "autoawait": "AsyncMagics",
        "autocall": "AutoMagics",
        "automagic": "AutoMagics",
        "autosave": "KernelMagics",
        "bookmark": "OSMagics",
        "cd": "OSMagics",
        "clear": "KernelMagics",
        "cls": "KernelMagics",
        "colors": "BasicMagics",
        "conda": "PackagingMagics",
        "config": "ConfigMagics",
        "connect_info": "KernelMagics",
        "copy": "Other",
        "ddir": "Other",
        "debug": "ExecutionMagics",
        "dhist": "OSMagics",
        "dirs": "OSMagics",
        "doctest_mode": "BasicMagics",
        "echo": "Other",
        "ed": "Other",
        "edit": "KernelMagics",
        "env": "OSMagics",
        "gui": "BasicMagics",
        "hist": "Other",
        "history": "HistoryMagics",
        "killbgscripts": "ScriptMagics",
        "ldir": "Other",
        "less": "KernelMagics",
        "load": "CodeMagics",
        "load_ext": "ExtensionMagics",
        "loadpy": "CodeMagics",
        "logoff": "LoggingMagics",
        "logon": "LoggingMagics",
        "logstart": "LoggingMagics",
        "logstate": "LoggingMagics",
        "logstop": "LoggingMagics",
        "ls": "Other",
        "lsmagic": "BasicMagics",
        "macro": "ExecutionMagics",
        "magic": "BasicMagics",
        "matplotlib": "PylabMagics",
        "mkdir": "Other",
        "more": "KernelMagics",
        "notebook": "BasicMagics",
        "page": "BasicMagics",
        "pastebin": "CodeMagics",
        "pdb": "ExecutionMagics",
        "pdef": "NamespaceMagics",
        "pdoc": "NamespaceMagics",
        "pfile": "NamespaceMagics",
        "pinfo": "NamespaceMagics",
        "pinfo2": "NamespaceMagics",
        "pip": "PackagingMagics",
        "popd": "OSMagics",
        "pprint": "BasicMagics",
        "precision": "BasicMagics",
        "prun": "ExecutionMagics",
        "psearch": "NamespaceMagics",
        "psource": "NamespaceMagics",
        "pushd": "OSMagics",
        "pwd": "OSMagics",
        "pycat": "OSMagics",
        "pylab": "PylabMagics",
        "qtconsole": "KernelMagics",
        "quickref": "BasicMagics",
        "recall": "HistoryMagics",
        "rehashx": "OSMagics",
        "reload_ext": "ExtensionMagics",
        "ren": "Other",
        "rep": "Other",
        "rerun": "HistoryMagics",
        "reset": "NamespaceMagics",
        "reset_selective": "NamespaceMagics",
        "rmdir": "Other",
        "run": "ExecutionMagics",
        "save": "CodeMagics",
        "sc": "OSMagics",
        "set_env": "OSMagics",
        "store": "StoreMagics",
        "sx": "OSMagics",
        "system": "OSMagics",
        "tb": "ExecutionMagics",
        "time": "ExecutionMagics",
        "timeit": "ExecutionMagics",
        "unalias": "OSMagics",
        "unload_ext": "ExtensionMagics",
        "who": "NamespaceMagics",
        "who_ls": "NamespaceMagics",
        "whos": "NamespaceMagics",
        "xdel": "NamespaceMagics",
        "xmode": "BasicMagics"
       }
      },
      "text/plain": [
       "Available line magics:\n",
       "%alias  %alias_magic  %autoawait  %autocall  %automagic  %autosave  %bookmark  %cd  %clear  %cls  %colors  %conda  %config  %connect_info  %copy  %ddir  %debug  %dhist  %dirs  %doctest_mode  %echo  %ed  %edit  %env  %gui  %hist  %history  %killbgscripts  %ldir  %less  %load  %load_ext  %loadpy  %logoff  %logon  %logstart  %logstate  %logstop  %ls  %lsmagic  %macro  %magic  %matplotlib  %mkdir  %more  %notebook  %page  %pastebin  %pdb  %pdef  %pdoc  %pfile  %pinfo  %pinfo2  %pip  %popd  %pprint  %precision  %prun  %psearch  %psource  %pushd  %pwd  %pycat  %pylab  %qtconsole  %quickref  %recall  %rehashx  %reload_ext  %ren  %rep  %rerun  %reset  %reset_selective  %rmdir  %run  %save  %sc  %set_env  %store  %sx  %system  %tb  %time  %timeit  %unalias  %unload_ext  %who  %who_ls  %whos  %xdel  %xmode\n",
       "\n",
       "Available cell magics:\n",
       "%%!  %%HTML  %%SVG  %%bash  %%capture  %%cmd  %%debug  %%file  %%html  %%javascript  %%js  %%latex  %%markdown  %%perl  %%prun  %%pypy  %%python  %%python2  %%python3  %%ruby  %%script  %%sh  %%svg  %%sx  %%system  %%time  %%timeit  %%writefile\n",
       "\n",
       "Automagic is ON, % prefix IS NOT needed for line magics."
      ]
     },
     "execution_count": 7,
     "metadata": {},
     "output_type": "execute_result"
    }
   ],
   "source": [
    "%lsmagic"
   ]
  },
  {
   "cell_type": "code",
   "execution_count": 9,
   "id": "be9c9587",
   "metadata": {},
   "outputs": [
    {
     "name": "stdout",
     "output_type": "stream",
     "text": [
      "docx\n",
      "odt\n",
      "pdf\n"
     ]
    }
   ],
   "source": [
    "%%bash\n",
    "# For Loop\n",
    "for filetype in docx odt pdf; do echo $filetype; done"
   ]
  }
 ],
 "metadata": {
  "kernelspec": {
   "display_name": "Python 3 (ipykernel)",
   "language": "python",
   "name": "python3"
  },
  "language_info": {
   "codemirror_mode": {
    "name": "ipython",
    "version": 3
   },
   "file_extension": ".py",
   "mimetype": "text/x-python",
   "name": "python",
   "nbconvert_exporter": "python",
   "pygments_lexer": "ipython3",
   "version": "3.9.7"
  }
 },
 "nbformat": 4,
 "nbformat_minor": 5
}
