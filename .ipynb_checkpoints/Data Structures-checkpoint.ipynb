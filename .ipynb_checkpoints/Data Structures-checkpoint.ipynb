{
 "cells": [
  {
   "cell_type": "markdown",
   "id": "11332079",
   "metadata": {},
   "source": [
    "# List\n",
    "A list can contain different data types.  \n",
    "Using \"+\" will concatenate lists.\n",
    "Use lists for a collection of values where order matters and you want to select entire subsets."
   ]
  },
  {
   "cell_type": "code",
   "execution_count": 4,
   "id": "ce02bc27",
   "metadata": {},
   "outputs": [
    {
     "name": "stdout",
     "output_type": "stream",
     "text": [
      "0\n",
      "['one', 1, True, 'two', 2, False]\n"
     ]
    }
   ],
   "source": [
    "my_list = ['one', 1, True]\n",
    "print(my_list.index('one'))\n",
    "my_list2 = my_list + ['two', 2, False]\n",
    "print(my_list2)"
   ]
  },
  {
   "cell_type": "markdown",
   "id": "b16a5b6f",
   "metadata": {},
   "source": [
    "# Numpy Array\n",
    "A numpy array must contain all the same data type or python will convert to common data type (i.e. string).\n",
    "Using \"+\" will perform addition or concatenation to items in the list.\n",
    "Define array with a list of lists in order to support objects with multiple data points and types."
   ]
  },
  {
   "cell_type": "code",
   "execution_count": 12,
   "id": "10e0edb7",
   "metadata": {},
   "outputs": [
    {
     "name": "stdout",
     "output_type": "stream",
     "text": [
      "[1 2 3]\n",
      "[5 7 9]\n",
      "[5 7 9 7 8 9]\n",
      "[7 8 9]\n",
      "F\n"
     ]
    }
   ],
   "source": [
    "import numpy as np\n",
    "my_np_array = np.array([1, 2, 3])\n",
    "print(my_np_array)\n",
    "my_np_array2 = my_np_array + [4, 5, 6]\n",
    "print(my_np_array2)\n",
    "my_np_array2 = np.append(my_np_array2, [7, 8, 9])\n",
    "print(my_np_array2)\n",
    "print(my_np_array2[3:])\n",
    "\n",
    "my_family = np.array([[\"Dad\", 49, \"M\"], [\"Mom\", 48, \"F\"], [\"Adam\", 25, \"M\"]])\n",
    "print(my_family[1][2])"
   ]
  },
  {
   "cell_type": "markdown",
   "id": "03e3525b",
   "metadata": {},
   "source": [
    "# Dictionary\n",
    "Dictionaries use key:value pairs.\n",
    "Dictionaries use curly braces.\n",
    "Keys must be unique and immutable.\n",
    "Use dictionaries where you want to lookup using unique keys."
   ]
  },
  {
   "cell_type": "code",
   "execution_count": 19,
   "id": "80163160",
   "metadata": {},
   "outputs": [
    {
     "name": "stdout",
     "output_type": "stream",
     "text": [
      "{'Dad': 49, 'Mom': 48, 'Adam': 25}\n",
      "dict_keys(['Dad', 'Mom', 'Adam'])\n",
      "25\n",
      "{'Dad': 49, 'Mom': 48, 'Adam': 25, 'Ria': 22}\n",
      "True\n",
      "{'Dad': 49, 'Mom': 48, 'Ria': 22}\n",
      "paris\n"
     ]
    }
   ],
   "source": [
    "my_family_dictionary = {\"Dad\":49, 'Mom':48, 'Adam':25}\n",
    "print(my_family_dictionary)\n",
    "print(my_family_dictionary.keys())\n",
    "print(my_family_dictionary['Adam'])\n",
    "my_family_dictionary['Ria'] = 22\n",
    "print(my_family_dictionary)\n",
    "print('Ria' in my_family_dictionary)\n",
    "del(my_family_dictionary['Adam'])\n",
    "print(my_family_dictionary)\n",
    "\n",
    "# Dictionary of dictionaries\n",
    "europe = { 'spain': { 'capital':'madrid', 'population':46.77 },\n",
    "           'france': { 'capital':'paris', 'population':66.03 },\n",
    "           'germany': { 'capital':'berlin', 'population':80.62 },\n",
    "           'norway': { 'capital':'oslo', 'population':5.084 } }\n",
    "\n",
    "\n",
    "# Print out the capital of France\n",
    "print(europe['france']['capital'])"
   ]
  },
  {
   "cell_type": "markdown",
   "id": "64c16037",
   "metadata": {},
   "source": [
    "# Pandas DataFrames\n",
    "Pandas is built on numpy.\n",
    "Used to store tabular data where you can label rows and columns.\n",
    "DataFrames can be built from dictionaries or from csv files.\n",
    "For csv imports define row labels using 'index_col'.\n",
    "ex: cars = pd.read_csv('cars.csv', index_col=0)"
   ]
  },
  {
   "cell_type": "code",
   "execution_count": 31,
   "id": "cd2ca945",
   "metadata": {},
   "outputs": [
    {
     "name": "stdout",
     "output_type": "stream",
     "text": [
      "         country  drives_right  cars_per_cap\n",
      "0  United States          True           809\n",
      "1      Australia         False           731\n",
      "2          Japan         False           588\n",
      "3          India         False            18\n",
      "4         Russia          True           200\n",
      "5        Morocco          True            70\n",
      "6          Egypt          True            45\n",
      "           country  drives_right  cars_per_cap\n",
      "US   United States          True           809\n",
      "AUS      Australia         False           731\n",
      "JPN          Japan         False           588\n",
      "IN           India         False            18\n",
      "RU          Russia          True           200\n",
      "MOR        Morocco          True            70\n",
      "EG           Egypt          True            45\n",
      "Series..........\n",
      "US     United States\n",
      "AUS        Australia\n",
      "JPN            Japan\n",
      "IN             India\n",
      "RU            Russia\n",
      "MOR          Morocco\n",
      "EG             Egypt\n",
      "Name: country, dtype: object\n",
      "country         Japan\n",
      "drives_right    False\n",
      "cars_per_cap      588\n",
      "Name: JPN, dtype: object\n",
      "country         Australia\n",
      "drives_right        False\n",
      "cars_per_cap          731\n",
      "Name: AUS, dtype: object\n",
      "country         Morocco\n",
      "drives_right       True\n",
      "cars_per_cap         70\n",
      "Name: MOR, dtype: object drives_right\n",
      "US      True\n",
      "AUS    False\n",
      "JPN    False\n",
      "IN     False\n",
      "RU      True\n",
      "MOR     True\n",
      "EG      True\n",
      "Name: drives_right, dtype: bool\n",
      "DataFrame..........\n",
      "           country\n",
      "US   United States\n",
      "AUS      Australia\n",
      "JPN          Japan\n",
      "IN           India\n",
      "RU          Russia\n",
      "MOR        Morocco\n",
      "EG           Egypt\n",
      "           country  drives_right\n",
      "US   United States          True\n",
      "AUS      Australia         False\n",
      "JPN          Japan         False\n",
      "IN           India         False\n",
      "RU          Russia          True\n",
      "MOR        Morocco          True\n",
      "EG           Egypt          True\n",
      "    country  drives_right  cars_per_cap\n",
      "JPN   Japan         False           588\n",
      "       country  drives_right  cars_per_cap\n",
      "AUS  Australia         False           731\n",
      "    country  drives_right  cars_per_cap\n",
      "JPN   Japan         False           588\n",
      "EG    Egypt          True            45\n",
      "    country  drives_right  cars_per_cap\n",
      "JPN   Japan         False           588\n",
      "EG    Egypt          True            45\n",
      "     country  drives_right  cars_per_cap\n",
      "IN     India         False            18\n",
      "RU    Russia          True           200\n",
      "MOR  Morocco          True            70\n",
      "     country  drives_right\n",
      "RU    Russia          True\n",
      "MOR  Morocco          True\n",
      "     drives_right\n",
      "US           True\n",
      "AUS         False\n",
      "JPN         False\n",
      "IN          False\n",
      "RU           True\n",
      "MOR          True\n",
      "EG           True\n",
      "     cars_per_cap  drives_right\n",
      "US            809          True\n",
      "AUS           731         False\n",
      "JPN           588         False\n",
      "IN             18         False\n",
      "RU            200          True\n",
      "MOR            70          True\n",
      "EG             45          True\n"
     ]
    }
   ],
   "source": [
    "# Pre-defined lists\n",
    "names = ['United States', 'Australia', 'Japan', 'India', 'Russia', 'Morocco', 'Egypt']\n",
    "dr =  [True, False, False, False, True, True, True]\n",
    "cpc = [809, 731, 588, 18, 200, 70, 45]\n",
    "\n",
    "# Import pandas as pd\n",
    "import pandas as pd\n",
    "\n",
    "# Create dictionary my_dict with three key:value pairs: my_dict\n",
    "my_dict = {'country':names, 'drives_right':dr, 'cars_per_cap':cpc}\n",
    "\n",
    "# Build a DataFrame cars from my_dict: cars\n",
    "cars = pd.DataFrame(my_dict)\n",
    "\n",
    "# Print cars\n",
    "print(cars)\n",
    "\n",
    "# Definition of row_labels\n",
    "row_labels = ['US', 'AUS', 'JPN', 'IN', 'RU', 'MOR', 'EG']\n",
    "\n",
    "# Specify row labels of cars\n",
    "cars.index = row_labels\n",
    "\n",
    "# Print cars again\n",
    "print(cars)\n",
    "\n",
    "# Print country column as a Pandas Series (single bracket)\n",
    "print('Series..........')\n",
    "print(cars['country'])\n",
    "print(cars.loc['JPN'])\n",
    "print(cars.iloc[1])\n",
    "# print(cars.loc['JPN', 'EG']) # cannot select multiple as series\n",
    "# print(cars.iloc[2, 6])       # cannot select multiple as series\n",
    "# Print out drives_right value of Morocco\n",
    "print(cars.loc['MOR'], 'drives_right')\n",
    "# Print out drives_right column as Series\n",
    "print(cars.loc[:, 'drives_right'])\n",
    "\n",
    "# Print country column as a Pandas DataFrame (double bracket)\n",
    "print('DataFrame..........')\n",
    "print(cars[['country']])\n",
    "print(cars[['country', 'drives_right']])\n",
    "print(cars.loc[['JPN']])\n",
    "print(cars.iloc[[1]])\n",
    "print(cars.loc[['JPN', 'EG']])\n",
    "print(cars.iloc[[2, 6]])\n",
    "# Print out fourth, fifth and sixth observation (rows)\n",
    "print(cars[3:6])\n",
    "# Print sub-DataFrame\n",
    "print(cars.loc[['RU', 'MOR'], ['country', 'drives_right']])\n",
    "# Print out drives_right column as DataFrame\n",
    "print(cars.loc[:, ['drives_right']])\n",
    "# Print out cars_per_cap and drives_right as DataFrame\n",
    "print(cars.loc[:, ['cars_per_cap', 'drives_right']])"
   ]
  }
 ],
 "metadata": {
  "kernelspec": {
   "display_name": "Python 3 (ipykernel)",
   "language": "python",
   "name": "python3"
  },
  "language_info": {
   "codemirror_mode": {
    "name": "ipython",
    "version": 3
   },
   "file_extension": ".py",
   "mimetype": "text/x-python",
   "name": "python",
   "nbconvert_exporter": "python",
   "pygments_lexer": "ipython3",
   "version": "3.9.7"
  }
 },
 "nbformat": 4,
 "nbformat_minor": 5
}
